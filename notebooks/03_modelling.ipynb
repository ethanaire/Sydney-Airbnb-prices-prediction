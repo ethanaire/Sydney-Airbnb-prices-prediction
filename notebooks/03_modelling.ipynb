{
 "cells": [
  {
   "attachments": {},
   "cell_type": "markdown",
   "id": "a6a106c2-f185-492f-87bb-79286c2eacc4",
   "metadata": {},
   "source": [
    "### __Predicting Airbnb Listing Prices in Sydney__"
   ]
  },
  {
   "attachments": {},
   "cell_type": "markdown",
   "id": "3c9f6968-d9c2-422f-9935-eba856b3c028",
   "metadata": {},
   "source": [
    "--- \n",
    "## Task 3: Fit and Tune Prediction Models/ Produce predictions\n"
   ]
  },
  {
   "cell_type": "markdown",
   "id": "14492c95",
   "metadata": {},
   "source": [
    "### Overview"
   ]
  },
  {
   "cell_type": "markdown",
   "id": "5504fd88",
   "metadata": {},
   "source": [
    "#### Breakdown of the general procedure:\n",
    "\n",
    "✅ **1. Load Data**\n",
    "- Load cleaned dataset from `data/processed/processed_train.csv`\n",
    "- Split into `train` and `test` sets\n",
    "\n",
    "✅ **2. Train Multiple Models**\n",
    "- Linear Regression (baseline)\n",
    "- Decision Tree (simple tree-based model)\n",
    "- Random Forest (strong tree ensemble model)\n",
    "- Gradient Boosting, XGBoost, LightGBM (powerful boosting methods)\n",
    "- Voting Regressor (combines multiple models for better results)\n",
    "\n",
    "✅ **3. Cross-Validation**\n",
    "- Evaluate a model on multiple subsets of data\n",
    "\n",
    "✅ **4. Hyperparameter Tuning**\n",
    "- Uses GridSearchCV to find the best RandomForestRegressor parameters\n",
    "\n",
    "✅ **5. Compare Model Performance**\n",
    "- Saves R² scores for each model\n",
    "- Plots bar chart of model performance\n",
    "\n",
    "✅ **6. Save the Best Model**\n",
    "- Identifies the best-performing model\n",
    "- Saves it as `results/best_model.pkl`\n",
    "\n",
    "#### Models Selection Breakdown\n",
    "\n",
    "Since we're predicting **Airbnb listing prices** (a continuous numerical target), this is a regression problem. Based on the nature of given datasets and typical challenges in price prediction, I selected a mix of traditional ML models and ensemble learning methods to balance interpretability, predictive power, and generalization.\n",
    "\n",
    "To assist the hyperparameters tuning process, we utilize `K-fold Cross Validation` and `RandomizedSearchCV` method. Specifically, we select important parameters and set a suitable range for them so that the Random Search can identify the best performance with optimal parameters. For the _K-fold Cross Validation_ method, its purpose is to assess how well a ML model can generalize to unseen data by training and testing on different parts of the dataset multiple times and prevent overfitting.\n",
    "\n",
    "#### Models Selection Strategy\n",
    "1. Start with a simple model (`Linear Regression`) to establish a baseline\n",
    "2. Use `Decision Trees` to see how non-linear relationships improve results\n",
    "3. Apply `Ensemble Methods (Random Forest, Gradient Boosting)` to enhance predictive power\n",
    "4. Use `Advanced Boosting Models (XGBoost, LightGBM)` for optimized performance\n",
    "5. **Fine-tune hyperparameters** using `GridSearchCV` & `Bayesian Optimization`"
   ]
  },
  {
   "cell_type": "markdown",
   "id": "66b7aca9",
   "metadata": {},
   "source": [
    "### Import processed data"
   ]
  },
  {
   "cell_type": "code",
   "execution_count": 7,
   "id": "a18df367",
   "metadata": {},
   "outputs": [],
   "source": [
    "# Import libraries \n",
    "import pandas as pd\n",
    "import numpy as np\n",
    "import seaborn as sns\n",
    "import matplotlib.pyplot as plt\n",
    "import joblib\n",
    "\n",
    "from sklearn.model_selection import train_test_split, cross_val_score, RandomizedSearchCV, KFold\n",
    "from sklearn.preprocessing import StandardScaler\n",
    "from sklearn.pipeline import Pipeline\n",
    "from sklearn.metrics import r2_score, mean_squared_error, mean_absolute_error\n",
    "\n",
    "# Models \n",
    "from sklearn.linear_model import LinearRegression\n",
    "from sklearn.tree import DecisionTreeRegressor\n",
    "from sklearn.ensemble import RandomForestRegressor, GradientBoostingRegressor, VotingRegressor\n",
    "import xgboost as xgb\n",
    "# import lightgbm as lgb\n",
    "\n",
    "# Bayesian Optimization\n",
    "from skopt import BayesSearchCV"
   ]
  },
  {
   "cell_type": "code",
   "execution_count": 8,
   "id": "b8d5bcdd",
   "metadata": {},
   "outputs": [],
   "source": [
    "# Set display options for better readability\n",
    "pd.set_option('display.max_columns', None)\n",
    "pd.set_option('display.max_rows', 50)\n",
    "\n",
    "# Configure seaborn aesthetics\n",
    "sns.set(style=\"whitegrid\", palette=\"muted\", font_scale=1.2)"
   ]
  },
  {
   "cell_type": "code",
   "execution_count": 24,
   "id": "0c357bb2",
   "metadata": {},
   "outputs": [],
   "source": [
    "# Retrieve the processed train dataset \n",
    "df = pd.read_csv(r\"C:\\Users\\haiho\\GITHUB\\Sydney-Airbnb-prices-prediction\\data\\processed\\processed_train.csv\")"
   ]
  },
  {
   "cell_type": "code",
   "execution_count": 25,
   "id": "9183b94b",
   "metadata": {},
   "outputs": [],
   "source": [
    "X = df.drop(['latitude', 'longitude', 'price'],axis=1) # Features\n",
    "y = df['price'] # Target variable"
   ]
  },
  {
   "cell_type": "code",
   "execution_count": 26,
   "id": "e934881f",
   "metadata": {},
   "outputs": [
    {
     "data": {
      "text/html": [
       "<div>\n",
       "<style scoped>\n",
       "    .dataframe tbody tr th:only-of-type {\n",
       "        vertical-align: middle;\n",
       "    }\n",
       "\n",
       "    .dataframe tbody tr th {\n",
       "        vertical-align: top;\n",
       "    }\n",
       "\n",
       "    .dataframe thead th {\n",
       "        text-align: right;\n",
       "    }\n",
       "</style>\n",
       "<table border=\"1\" class=\"dataframe\">\n",
       "  <thead>\n",
       "    <tr style=\"text-align: right;\">\n",
       "      <th></th>\n",
       "      <th>ID</th>\n",
       "      <th>host_response_rate</th>\n",
       "      <th>host_acceptance_rate</th>\n",
       "      <th>host_is_superhost</th>\n",
       "      <th>host_listings_count</th>\n",
       "      <th>host_has_profile_pic</th>\n",
       "      <th>host_identity_verified</th>\n",
       "      <th>accommodates</th>\n",
       "      <th>bedrooms</th>\n",
       "      <th>beds</th>\n",
       "      <th>minimum_nights</th>\n",
       "      <th>maximum_nights</th>\n",
       "      <th>minimum_minimum_nights</th>\n",
       "      <th>maximum_minimum_nights</th>\n",
       "      <th>minimum_maximum_nights</th>\n",
       "      <th>maximum_maximum_nights</th>\n",
       "      <th>minimum_nights_avg_ntm</th>\n",
       "      <th>maximum_nights_avg_ntm</th>\n",
       "      <th>has_availability</th>\n",
       "      <th>availability_30</th>\n",
       "      <th>availability_60</th>\n",
       "      <th>availability_90</th>\n",
       "      <th>availability_365</th>\n",
       "      <th>number_of_reviews</th>\n",
       "      <th>number_of_reviews_ltm</th>\n",
       "      <th>number_of_reviews_l30d</th>\n",
       "      <th>review_scores_rating</th>\n",
       "      <th>review_scores_accuracy</th>\n",
       "      <th>review_scores_cleanliness</th>\n",
       "      <th>review_scores_checkin</th>\n",
       "      <th>review_scores_communication</th>\n",
       "      <th>review_scores_location</th>\n",
       "      <th>review_scores_value</th>\n",
       "      <th>instant_bookable</th>\n",
       "      <th>calculated_host_listings_count</th>\n",
       "      <th>calculated_host_listings_count_entire_homes</th>\n",
       "      <th>calculated_host_listings_count_private_rooms</th>\n",
       "      <th>calculated_host_listings_count_shared_rooms</th>\n",
       "      <th>reviews_per_month</th>\n",
       "      <th>email</th>\n",
       "      <th>phone</th>\n",
       "      <th>reviews</th>\n",
       "      <th>jumio</th>\n",
       "      <th>Long term stays allowed</th>\n",
       "      <th>Wifi</th>\n",
       "      <th>Essentials</th>\n",
       "      <th>Smoke alarm</th>\n",
       "      <th>mapped_property_type</th>\n",
       "      <th>mapped_bathrooms</th>\n",
       "      <th>mapped_room_type</th>\n",
       "      <th>response_time</th>\n",
       "    </tr>\n",
       "  </thead>\n",
       "  <tbody>\n",
       "    <tr>\n",
       "      <th>0</th>\n",
       "      <td>0</td>\n",
       "      <td>100.0</td>\n",
       "      <td>69.0</td>\n",
       "      <td>1</td>\n",
       "      <td>2.0</td>\n",
       "      <td>1</td>\n",
       "      <td>1</td>\n",
       "      <td>6</td>\n",
       "      <td>3</td>\n",
       "      <td>3</td>\n",
       "      <td>2</td>\n",
       "      <td>22</td>\n",
       "      <td>2</td>\n",
       "      <td>2</td>\n",
       "      <td>22</td>\n",
       "      <td>22</td>\n",
       "      <td>2</td>\n",
       "      <td>22</td>\n",
       "      <td>1</td>\n",
       "      <td>0</td>\n",
       "      <td>14</td>\n",
       "      <td>14</td>\n",
       "      <td>174</td>\n",
       "      <td>3</td>\n",
       "      <td>1</td>\n",
       "      <td>0</td>\n",
       "      <td>4.67</td>\n",
       "      <td>4.33</td>\n",
       "      <td>4.33</td>\n",
       "      <td>4.67</td>\n",
       "      <td>4.33</td>\n",
       "      <td>4.67</td>\n",
       "      <td>4.33</td>\n",
       "      <td>0</td>\n",
       "      <td>2</td>\n",
       "      <td>2</td>\n",
       "      <td>0</td>\n",
       "      <td>0</td>\n",
       "      <td>0.04</td>\n",
       "      <td>1</td>\n",
       "      <td>1</td>\n",
       "      <td>1</td>\n",
       "      <td>1</td>\n",
       "      <td>0</td>\n",
       "      <td>1</td>\n",
       "      <td>1</td>\n",
       "      <td>1</td>\n",
       "      <td>5</td>\n",
       "      <td>3.0</td>\n",
       "      <td>4</td>\n",
       "      <td>3</td>\n",
       "    </tr>\n",
       "    <tr>\n",
       "      <th>1</th>\n",
       "      <td>1</td>\n",
       "      <td>100.0</td>\n",
       "      <td>100.0</td>\n",
       "      <td>0</td>\n",
       "      <td>3.0</td>\n",
       "      <td>1</td>\n",
       "      <td>1</td>\n",
       "      <td>2</td>\n",
       "      <td>1</td>\n",
       "      <td>1</td>\n",
       "      <td>2</td>\n",
       "      <td>90</td>\n",
       "      <td>2</td>\n",
       "      <td>2</td>\n",
       "      <td>90</td>\n",
       "      <td>90</td>\n",
       "      <td>2</td>\n",
       "      <td>90</td>\n",
       "      <td>1</td>\n",
       "      <td>5</td>\n",
       "      <td>31</td>\n",
       "      <td>61</td>\n",
       "      <td>336</td>\n",
       "      <td>383</td>\n",
       "      <td>18</td>\n",
       "      <td>6</td>\n",
       "      <td>4.42</td>\n",
       "      <td>4.58</td>\n",
       "      <td>4.40</td>\n",
       "      <td>4.77</td>\n",
       "      <td>4.67</td>\n",
       "      <td>4.70</td>\n",
       "      <td>4.47</td>\n",
       "      <td>1</td>\n",
       "      <td>1</td>\n",
       "      <td>0</td>\n",
       "      <td>1</td>\n",
       "      <td>0</td>\n",
       "      <td>3.21</td>\n",
       "      <td>1</td>\n",
       "      <td>1</td>\n",
       "      <td>1</td>\n",
       "      <td>1</td>\n",
       "      <td>1</td>\n",
       "      <td>1</td>\n",
       "      <td>1</td>\n",
       "      <td>1</td>\n",
       "      <td>2</td>\n",
       "      <td>5.0</td>\n",
       "      <td>3</td>\n",
       "      <td>4</td>\n",
       "    </tr>\n",
       "    <tr>\n",
       "      <th>2</th>\n",
       "      <td>2</td>\n",
       "      <td>100.0</td>\n",
       "      <td>81.0</td>\n",
       "      <td>1</td>\n",
       "      <td>1.0</td>\n",
       "      <td>1</td>\n",
       "      <td>1</td>\n",
       "      <td>4</td>\n",
       "      <td>1</td>\n",
       "      <td>1</td>\n",
       "      <td>2</td>\n",
       "      <td>90</td>\n",
       "      <td>2</td>\n",
       "      <td>2</td>\n",
       "      <td>90</td>\n",
       "      <td>90</td>\n",
       "      <td>2</td>\n",
       "      <td>90</td>\n",
       "      <td>1</td>\n",
       "      <td>1</td>\n",
       "      <td>9</td>\n",
       "      <td>33</td>\n",
       "      <td>217</td>\n",
       "      <td>297</td>\n",
       "      <td>15</td>\n",
       "      <td>4</td>\n",
       "      <td>4.55</td>\n",
       "      <td>4.66</td>\n",
       "      <td>4.23</td>\n",
       "      <td>4.87</td>\n",
       "      <td>4.90</td>\n",
       "      <td>4.73</td>\n",
       "      <td>4.68</td>\n",
       "      <td>0</td>\n",
       "      <td>1</td>\n",
       "      <td>1</td>\n",
       "      <td>0</td>\n",
       "      <td>0</td>\n",
       "      <td>2.23</td>\n",
       "      <td>1</td>\n",
       "      <td>1</td>\n",
       "      <td>1</td>\n",
       "      <td>1</td>\n",
       "      <td>1</td>\n",
       "      <td>1</td>\n",
       "      <td>1</td>\n",
       "      <td>1</td>\n",
       "      <td>5</td>\n",
       "      <td>6.0</td>\n",
       "      <td>4</td>\n",
       "      <td>3</td>\n",
       "    </tr>\n",
       "    <tr>\n",
       "      <th>3</th>\n",
       "      <td>3</td>\n",
       "      <td>100.0</td>\n",
       "      <td>100.0</td>\n",
       "      <td>1</td>\n",
       "      <td>1.0</td>\n",
       "      <td>1</td>\n",
       "      <td>1</td>\n",
       "      <td>4</td>\n",
       "      <td>2</td>\n",
       "      <td>2</td>\n",
       "      <td>90</td>\n",
       "      <td>90</td>\n",
       "      <td>90</td>\n",
       "      <td>90</td>\n",
       "      <td>90</td>\n",
       "      <td>90</td>\n",
       "      <td>90</td>\n",
       "      <td>90</td>\n",
       "      <td>1</td>\n",
       "      <td>12</td>\n",
       "      <td>42</td>\n",
       "      <td>72</td>\n",
       "      <td>347</td>\n",
       "      <td>33</td>\n",
       "      <td>1</td>\n",
       "      <td>0</td>\n",
       "      <td>4.42</td>\n",
       "      <td>4.42</td>\n",
       "      <td>3.74</td>\n",
       "      <td>4.90</td>\n",
       "      <td>4.90</td>\n",
       "      <td>4.90</td>\n",
       "      <td>4.32</td>\n",
       "      <td>0</td>\n",
       "      <td>1</td>\n",
       "      <td>1</td>\n",
       "      <td>0</td>\n",
       "      <td>0</td>\n",
       "      <td>0.25</td>\n",
       "      <td>1</td>\n",
       "      <td>1</td>\n",
       "      <td>1</td>\n",
       "      <td>1</td>\n",
       "      <td>1</td>\n",
       "      <td>1</td>\n",
       "      <td>1</td>\n",
       "      <td>1</td>\n",
       "      <td>4</td>\n",
       "      <td>6.0</td>\n",
       "      <td>4</td>\n",
       "      <td>2</td>\n",
       "    </tr>\n",
       "    <tr>\n",
       "      <th>4</th>\n",
       "      <td>4</td>\n",
       "      <td>100.0</td>\n",
       "      <td>89.0</td>\n",
       "      <td>1</td>\n",
       "      <td>2.0</td>\n",
       "      <td>1</td>\n",
       "      <td>1</td>\n",
       "      <td>4</td>\n",
       "      <td>2</td>\n",
       "      <td>3</td>\n",
       "      <td>1</td>\n",
       "      <td>30</td>\n",
       "      <td>1</td>\n",
       "      <td>1</td>\n",
       "      <td>30</td>\n",
       "      <td>30</td>\n",
       "      <td>1</td>\n",
       "      <td>30</td>\n",
       "      <td>1</td>\n",
       "      <td>26</td>\n",
       "      <td>53</td>\n",
       "      <td>83</td>\n",
       "      <td>358</td>\n",
       "      <td>61</td>\n",
       "      <td>15</td>\n",
       "      <td>0</td>\n",
       "      <td>4.95</td>\n",
       "      <td>4.93</td>\n",
       "      <td>4.98</td>\n",
       "      <td>4.98</td>\n",
       "      <td>5.00</td>\n",
       "      <td>4.79</td>\n",
       "      <td>4.93</td>\n",
       "      <td>0</td>\n",
       "      <td>1</td>\n",
       "      <td>0</td>\n",
       "      <td>1</td>\n",
       "      <td>0</td>\n",
       "      <td>0.48</td>\n",
       "      <td>1</td>\n",
       "      <td>1</td>\n",
       "      <td>1</td>\n",
       "      <td>1</td>\n",
       "      <td>1</td>\n",
       "      <td>1</td>\n",
       "      <td>1</td>\n",
       "      <td>1</td>\n",
       "      <td>2</td>\n",
       "      <td>2.0</td>\n",
       "      <td>3</td>\n",
       "      <td>4</td>\n",
       "    </tr>\n",
       "  </tbody>\n",
       "</table>\n",
       "</div>"
      ],
      "text/plain": [
       "   ID  host_response_rate  host_acceptance_rate  host_is_superhost  \\\n",
       "0   0               100.0                  69.0                  1   \n",
       "1   1               100.0                 100.0                  0   \n",
       "2   2               100.0                  81.0                  1   \n",
       "3   3               100.0                 100.0                  1   \n",
       "4   4               100.0                  89.0                  1   \n",
       "\n",
       "   host_listings_count  host_has_profile_pic  host_identity_verified  \\\n",
       "0                  2.0                     1                       1   \n",
       "1                  3.0                     1                       1   \n",
       "2                  1.0                     1                       1   \n",
       "3                  1.0                     1                       1   \n",
       "4                  2.0                     1                       1   \n",
       "\n",
       "   accommodates  bedrooms  beds  minimum_nights  maximum_nights  \\\n",
       "0             6         3     3               2              22   \n",
       "1             2         1     1               2              90   \n",
       "2             4         1     1               2              90   \n",
       "3             4         2     2              90              90   \n",
       "4             4         2     3               1              30   \n",
       "\n",
       "   minimum_minimum_nights  maximum_minimum_nights  minimum_maximum_nights  \\\n",
       "0                       2                       2                      22   \n",
       "1                       2                       2                      90   \n",
       "2                       2                       2                      90   \n",
       "3                      90                      90                      90   \n",
       "4                       1                       1                      30   \n",
       "\n",
       "   maximum_maximum_nights  minimum_nights_avg_ntm  maximum_nights_avg_ntm  \\\n",
       "0                      22                       2                      22   \n",
       "1                      90                       2                      90   \n",
       "2                      90                       2                      90   \n",
       "3                      90                      90                      90   \n",
       "4                      30                       1                      30   \n",
       "\n",
       "   has_availability  availability_30  availability_60  availability_90  \\\n",
       "0                 1                0               14               14   \n",
       "1                 1                5               31               61   \n",
       "2                 1                1                9               33   \n",
       "3                 1               12               42               72   \n",
       "4                 1               26               53               83   \n",
       "\n",
       "   availability_365  number_of_reviews  number_of_reviews_ltm  \\\n",
       "0               174                  3                      1   \n",
       "1               336                383                     18   \n",
       "2               217                297                     15   \n",
       "3               347                 33                      1   \n",
       "4               358                 61                     15   \n",
       "\n",
       "   number_of_reviews_l30d  review_scores_rating  review_scores_accuracy  \\\n",
       "0                       0                  4.67                    4.33   \n",
       "1                       6                  4.42                    4.58   \n",
       "2                       4                  4.55                    4.66   \n",
       "3                       0                  4.42                    4.42   \n",
       "4                       0                  4.95                    4.93   \n",
       "\n",
       "   review_scores_cleanliness  review_scores_checkin  \\\n",
       "0                       4.33                   4.67   \n",
       "1                       4.40                   4.77   \n",
       "2                       4.23                   4.87   \n",
       "3                       3.74                   4.90   \n",
       "4                       4.98                   4.98   \n",
       "\n",
       "   review_scores_communication  review_scores_location  review_scores_value  \\\n",
       "0                         4.33                    4.67                 4.33   \n",
       "1                         4.67                    4.70                 4.47   \n",
       "2                         4.90                    4.73                 4.68   \n",
       "3                         4.90                    4.90                 4.32   \n",
       "4                         5.00                    4.79                 4.93   \n",
       "\n",
       "   instant_bookable  calculated_host_listings_count  \\\n",
       "0                 0                               2   \n",
       "1                 1                               1   \n",
       "2                 0                               1   \n",
       "3                 0                               1   \n",
       "4                 0                               1   \n",
       "\n",
       "   calculated_host_listings_count_entire_homes  \\\n",
       "0                                            2   \n",
       "1                                            0   \n",
       "2                                            1   \n",
       "3                                            1   \n",
       "4                                            0   \n",
       "\n",
       "   calculated_host_listings_count_private_rooms  \\\n",
       "0                                             0   \n",
       "1                                             1   \n",
       "2                                             0   \n",
       "3                                             0   \n",
       "4                                             1   \n",
       "\n",
       "   calculated_host_listings_count_shared_rooms  reviews_per_month  email  \\\n",
       "0                                            0               0.04      1   \n",
       "1                                            0               3.21      1   \n",
       "2                                            0               2.23      1   \n",
       "3                                            0               0.25      1   \n",
       "4                                            0               0.48      1   \n",
       "\n",
       "   phone  reviews  jumio  Long term stays allowed  Wifi  Essentials  \\\n",
       "0      1        1      1                        0     1           1   \n",
       "1      1        1      1                        1     1           1   \n",
       "2      1        1      1                        1     1           1   \n",
       "3      1        1      1                        1     1           1   \n",
       "4      1        1      1                        1     1           1   \n",
       "\n",
       "   Smoke alarm  mapped_property_type  mapped_bathrooms  mapped_room_type  \\\n",
       "0            1                     5               3.0                 4   \n",
       "1            1                     2               5.0                 3   \n",
       "2            1                     5               6.0                 4   \n",
       "3            1                     4               6.0                 4   \n",
       "4            1                     2               2.0                 3   \n",
       "\n",
       "   response_time  \n",
       "0              3  \n",
       "1              4  \n",
       "2              3  \n",
       "3              2  \n",
       "4              4  "
      ]
     },
     "execution_count": 26,
     "metadata": {},
     "output_type": "execute_result"
    }
   ],
   "source": [
    "X.head()"
   ]
  },
  {
   "cell_type": "code",
   "execution_count": 27,
   "id": "d12f3ffe",
   "metadata": {},
   "outputs": [],
   "source": [
    "# Split into train & test sets\n",
    "X_train, X_test, y_train, y_test = train_test_split(X, y, test_size=0.2, random_state=42)"
   ]
  },
  {
   "cell_type": "code",
   "execution_count": 33,
   "id": "07feaa16",
   "metadata": {},
   "outputs": [
    {
     "data": {
      "text/plain": [
       "(5600, 51)"
      ]
     },
     "execution_count": 33,
     "metadata": {},
     "output_type": "execute_result"
    }
   ],
   "source": [
    "X_train.shape"
   ]
  },
  {
   "cell_type": "code",
   "execution_count": 38,
   "id": "c93613ce",
   "metadata": {},
   "outputs": [
    {
     "name": "stdout",
     "output_type": "stream",
     "text": [
      "<class 'pandas.core.frame.DataFrame'>\n",
      "Index: 5600 entries, 1032 to 860\n",
      "Data columns (total 51 columns):\n",
      " #   Column                                        Non-Null Count  Dtype  \n",
      "---  ------                                        --------------  -----  \n",
      " 0   ID                                            5600 non-null   int64  \n",
      " 1   host_response_rate                            5600 non-null   float64\n",
      " 2   host_acceptance_rate                          5600 non-null   float64\n",
      " 3   host_is_superhost                             5600 non-null   int64  \n",
      " 4   host_listings_count                           5600 non-null   float64\n",
      " 5   host_has_profile_pic                          5600 non-null   int64  \n",
      " 6   host_identity_verified                        5600 non-null   int64  \n",
      " 7   accommodates                                  5600 non-null   int64  \n",
      " 8   bedrooms                                      5600 non-null   int64  \n",
      " 9   beds                                          5600 non-null   int64  \n",
      " 10  minimum_nights                                5600 non-null   int64  \n",
      " 11  maximum_nights                                5600 non-null   int64  \n",
      " 12  minimum_minimum_nights                        5600 non-null   int64  \n",
      " 13  maximum_minimum_nights                        5600 non-null   int64  \n",
      " 14  minimum_maximum_nights                        5600 non-null   int64  \n",
      " 15  maximum_maximum_nights                        5600 non-null   int64  \n",
      " 16  minimum_nights_avg_ntm                        5600 non-null   int64  \n",
      " 17  maximum_nights_avg_ntm                        5600 non-null   int64  \n",
      " 18  has_availability                              5600 non-null   int64  \n",
      " 19  availability_30                               5600 non-null   int64  \n",
      " 20  availability_60                               5600 non-null   int64  \n",
      " 21  availability_90                               5600 non-null   int64  \n",
      " 22  availability_365                              5600 non-null   int64  \n",
      " 23  number_of_reviews                             5600 non-null   int64  \n",
      " 24  number_of_reviews_ltm                         5600 non-null   int64  \n",
      " 25  number_of_reviews_l30d                        5600 non-null   int64  \n",
      " 26  review_scores_rating                          5600 non-null   float64\n",
      " 27  review_scores_accuracy                        5600 non-null   float64\n",
      " 28  review_scores_cleanliness                     5600 non-null   float64\n",
      " 29  review_scores_checkin                         5600 non-null   float64\n",
      " 30  review_scores_communication                   5600 non-null   float64\n",
      " 31  review_scores_location                        5600 non-null   float64\n",
      " 32  review_scores_value                           5600 non-null   float64\n",
      " 33  instant_bookable                              5600 non-null   int64  \n",
      " 34  calculated_host_listings_count                5600 non-null   int64  \n",
      " 35  calculated_host_listings_count_entire_homes   5600 non-null   int64  \n",
      " 36  calculated_host_listings_count_private_rooms  5600 non-null   int64  \n",
      " 37  calculated_host_listings_count_shared_rooms   5600 non-null   int64  \n",
      " 38  reviews_per_month                             5600 non-null   float64\n",
      " 39  email                                         5600 non-null   int64  \n",
      " 40  phone                                         5600 non-null   int64  \n",
      " 41  reviews                                       5600 non-null   int64  \n",
      " 42  jumio                                         5600 non-null   int64  \n",
      " 43  Long term stays allowed                       5600 non-null   int64  \n",
      " 44  Wifi                                          5600 non-null   int64  \n",
      " 45  Essentials                                    5600 non-null   int64  \n",
      " 46  Smoke alarm                                   5600 non-null   int64  \n",
      " 47  mapped_property_type                          5600 non-null   int64  \n",
      " 48  mapped_bathrooms                              5597 non-null   float64\n",
      " 49  mapped_room_type                              5600 non-null   int64  \n",
      " 50  response_time                                 5600 non-null   int64  \n",
      "dtypes: float64(12), int64(39)\n",
      "memory usage: 2.2 MB\n"
     ]
    }
   ],
   "source": [
    "X_train.info()"
   ]
  },
  {
   "cell_type": "code",
   "execution_count": 21,
   "id": "c1df89c5",
   "metadata": {},
   "outputs": [],
   "source": [
    "# Standardize features\n",
    "scaler = StandardScaler()\n",
    "X_train_scaled = scaler.fit_transform(X_train)\n",
    "X_test_scaled = scaler.transform(X_test)"
   ]
  },
  {
   "cell_type": "code",
   "execution_count": null,
   "id": "859a02d2",
   "metadata": {},
   "outputs": [],
   "source": [
    "# Save scaler\n",
    "joblib.dump(scaler, \"results/scaler.pkl\")"
   ]
  },
  {
   "cell_type": "markdown",
   "id": "db875ea6",
   "metadata": {},
   "source": [
    "### 1. Cross-Validation Function"
   ]
  },
  {
   "cell_type": "markdown",
   "id": "87f9b2a6",
   "metadata": {},
   "source": [
    "To ensure our model generalizes well to unseen data, we use **K-Fold Cross-Validation (CV)**. This method splits the dataset into multiple folds, trains the model on some folds, and tests it on the remaining ones. \n",
    "\n",
    "- We define a **5-fold cross-validation strategy** using `KFold`, ensuring reproducibility with `random_state=42`.\n",
    "- The `evaluate_model` function:\n",
    "  - Computes **cross-validation scores** using the R² metric.\n",
    "  - Prints the **mean R² score** and **standard deviation** to assess model stability.\n",
    "  - Returns the mean R² score for further evaluation.\n",
    "\n",
    "This approach helps us avoid overfitting and provides a robust estimate of model performance.\n"
   ]
  },
  {
   "cell_type": "code",
   "execution_count": 34,
   "id": "e4b1aaa0",
   "metadata": {},
   "outputs": [],
   "source": [
    "# Define cross-validation strategy (5-fold)\n",
    "cv = KFold(n_splits=5, shuffle=True, random_state=42)\n",
    "\n",
    "# Helper function to evaluate models \n",
    "def evaluate_model(model, X, y):\n",
    "    scores = cross_val_score(model, X, y, cv=cv, scoring=\"r2\", n_jobs=-1)\n",
    "    print(f\"{model.__class__.__name__}: Mean R² = {scores.mean():.3f} | Std = {scores.std():.3f}\")\n",
    "    return scores.mean()"
   ]
  },
  {
   "cell_type": "markdown",
   "id": "caba93f6",
   "metadata": {},
   "source": [
    "### 2. Baseline Model (Linear Regression)"
   ]
  },
  {
   "cell_type": "markdown",
   "id": "0b9fdf7e",
   "metadata": {},
   "source": [
    "Multiple linear regression (MLR) uses several explanatory variables to predict the outcome of a dependent variable. The goal of multiple linear regression is to model the linear relationship between the explanatory (independent) variables and response (dependent) variables."
   ]
  },
  {
   "cell_type": "code",
   "execution_count": null,
   "id": "56c36df7",
   "metadata": {},
   "outputs": [
    {
     "name": "stdout",
     "output_type": "stream",
     "text": [
      "NaN values in X_train: 3\n",
      "NaN values in y_train: 0\n",
      "Infinite values in X_train: 0\n",
      "Infinite values in y_train: 0\n"
     ]
    }
   ],
   "source": [
    "# Check for NaN values\n",
    "print(\"NaN values in X_train:\", np.isnan(X_train).sum().sum())\n",
    "print(\"NaN values in y_train:\", np.isnan(y_train).sum())\n",
    "    \n",
    "# Check for infinite values\n",
    "print(\"Infinite values in X_train:\", np.isinf(X_train).sum().sum())\n",
    "print(\"Infinite values in y_train:\", np.isinf(y_train).sum())\n"
   ]
  },
  {
   "cell_type": "code",
   "execution_count": 35,
   "id": "d3c5e1b9",
   "metadata": {},
   "outputs": [
    {
     "ename": "ValueError",
     "evalue": "Input contains NaN, infinity or a value too large for dtype('float64').",
     "output_type": "error",
     "traceback": [
      "\u001b[1;31m---------------------------------------------------------------------------\u001b[0m",
      "\u001b[1;31mValueError\u001b[0m                                Traceback (most recent call last)",
      "Cell \u001b[1;32mIn[35], line 2\u001b[0m\n\u001b[0;32m      1\u001b[0m lin_reg \u001b[38;5;241m=\u001b[39m LinearRegression()\n\u001b[1;32m----> 2\u001b[0m \u001b[43mlin_reg\u001b[49m\u001b[38;5;241;43m.\u001b[39;49m\u001b[43mfit\u001b[49m\u001b[43m(\u001b[49m\u001b[43mX_train\u001b[49m\u001b[43m,\u001b[49m\u001b[43m \u001b[49m\u001b[43my_train\u001b[49m\u001b[43m)\u001b[49m\n\u001b[0;32m      4\u001b[0m y_pred_lr \u001b[38;5;241m=\u001b[39m lin_reg\u001b[38;5;241m.\u001b[39mpredict(X_test)\n\u001b[0;32m      5\u001b[0m \u001b[38;5;28mprint\u001b[39m(\u001b[38;5;124mf\u001b[39m\u001b[38;5;124m\"\u001b[39m\u001b[38;5;124mLinear Regression - R²: \u001b[39m\u001b[38;5;132;01m{\u001b[39;00mr2_score(y_test, y_pred_lr)\u001b[38;5;132;01m:\u001b[39;00m\u001b[38;5;124m.3f\u001b[39m\u001b[38;5;132;01m}\u001b[39;00m\u001b[38;5;124m\"\u001b[39m)\n",
      "File \u001b[1;32mc:\\Users\\haiho\\anaconda3\\lib\\site-packages\\sklearn\\linear_model\\_base.py:662\u001b[0m, in \u001b[0;36mLinearRegression.fit\u001b[1;34m(self, X, y, sample_weight)\u001b[0m\n\u001b[0;32m    658\u001b[0m n_jobs_ \u001b[38;5;241m=\u001b[39m \u001b[38;5;28mself\u001b[39m\u001b[38;5;241m.\u001b[39mn_jobs\n\u001b[0;32m    660\u001b[0m accept_sparse \u001b[38;5;241m=\u001b[39m \u001b[38;5;28;01mFalse\u001b[39;00m \u001b[38;5;28;01mif\u001b[39;00m \u001b[38;5;28mself\u001b[39m\u001b[38;5;241m.\u001b[39mpositive \u001b[38;5;28;01melse\u001b[39;00m [\u001b[38;5;124m\"\u001b[39m\u001b[38;5;124mcsr\u001b[39m\u001b[38;5;124m\"\u001b[39m, \u001b[38;5;124m\"\u001b[39m\u001b[38;5;124mcsc\u001b[39m\u001b[38;5;124m\"\u001b[39m, \u001b[38;5;124m\"\u001b[39m\u001b[38;5;124mcoo\u001b[39m\u001b[38;5;124m\"\u001b[39m]\n\u001b[1;32m--> 662\u001b[0m X, y \u001b[38;5;241m=\u001b[39m \u001b[38;5;28;43mself\u001b[39;49m\u001b[38;5;241;43m.\u001b[39;49m\u001b[43m_validate_data\u001b[49m\u001b[43m(\u001b[49m\n\u001b[0;32m    663\u001b[0m \u001b[43m    \u001b[49m\u001b[43mX\u001b[49m\u001b[43m,\u001b[49m\u001b[43m \u001b[49m\u001b[43my\u001b[49m\u001b[43m,\u001b[49m\u001b[43m \u001b[49m\u001b[43maccept_sparse\u001b[49m\u001b[38;5;241;43m=\u001b[39;49m\u001b[43maccept_sparse\u001b[49m\u001b[43m,\u001b[49m\u001b[43m \u001b[49m\u001b[43my_numeric\u001b[49m\u001b[38;5;241;43m=\u001b[39;49m\u001b[38;5;28;43;01mTrue\u001b[39;49;00m\u001b[43m,\u001b[49m\u001b[43m \u001b[49m\u001b[43mmulti_output\u001b[49m\u001b[38;5;241;43m=\u001b[39;49m\u001b[38;5;28;43;01mTrue\u001b[39;49;00m\n\u001b[0;32m    664\u001b[0m \u001b[43m\u001b[49m\u001b[43m)\u001b[49m\n\u001b[0;32m    666\u001b[0m \u001b[38;5;28;01mif\u001b[39;00m sample_weight \u001b[38;5;129;01mis\u001b[39;00m \u001b[38;5;129;01mnot\u001b[39;00m \u001b[38;5;28;01mNone\u001b[39;00m:\n\u001b[0;32m    667\u001b[0m     sample_weight \u001b[38;5;241m=\u001b[39m _check_sample_weight(sample_weight, X, dtype\u001b[38;5;241m=\u001b[39mX\u001b[38;5;241m.\u001b[39mdtype)\n",
      "File \u001b[1;32mc:\\Users\\haiho\\anaconda3\\lib\\site-packages\\sklearn\\base.py:581\u001b[0m, in \u001b[0;36mBaseEstimator._validate_data\u001b[1;34m(self, X, y, reset, validate_separately, **check_params)\u001b[0m\n\u001b[0;32m    579\u001b[0m         y \u001b[38;5;241m=\u001b[39m check_array(y, \u001b[38;5;241m*\u001b[39m\u001b[38;5;241m*\u001b[39mcheck_y_params)\n\u001b[0;32m    580\u001b[0m     \u001b[38;5;28;01melse\u001b[39;00m:\n\u001b[1;32m--> 581\u001b[0m         X, y \u001b[38;5;241m=\u001b[39m check_X_y(X, y, \u001b[38;5;241m*\u001b[39m\u001b[38;5;241m*\u001b[39mcheck_params)\n\u001b[0;32m    582\u001b[0m     out \u001b[38;5;241m=\u001b[39m X, y\n\u001b[0;32m    584\u001b[0m \u001b[38;5;28;01mif\u001b[39;00m \u001b[38;5;129;01mnot\u001b[39;00m no_val_X \u001b[38;5;129;01mand\u001b[39;00m check_params\u001b[38;5;241m.\u001b[39mget(\u001b[38;5;124m\"\u001b[39m\u001b[38;5;124mensure_2d\u001b[39m\u001b[38;5;124m\"\u001b[39m, \u001b[38;5;28;01mTrue\u001b[39;00m):\n",
      "File \u001b[1;32mc:\\Users\\haiho\\anaconda3\\lib\\site-packages\\sklearn\\utils\\validation.py:964\u001b[0m, in \u001b[0;36mcheck_X_y\u001b[1;34m(X, y, accept_sparse, accept_large_sparse, dtype, order, copy, force_all_finite, ensure_2d, allow_nd, multi_output, ensure_min_samples, ensure_min_features, y_numeric, estimator)\u001b[0m\n\u001b[0;32m    961\u001b[0m \u001b[38;5;28;01mif\u001b[39;00m y \u001b[38;5;129;01mis\u001b[39;00m \u001b[38;5;28;01mNone\u001b[39;00m:\n\u001b[0;32m    962\u001b[0m     \u001b[38;5;28;01mraise\u001b[39;00m \u001b[38;5;167;01mValueError\u001b[39;00m(\u001b[38;5;124m\"\u001b[39m\u001b[38;5;124my cannot be None\u001b[39m\u001b[38;5;124m\"\u001b[39m)\n\u001b[1;32m--> 964\u001b[0m X \u001b[38;5;241m=\u001b[39m \u001b[43mcheck_array\u001b[49m\u001b[43m(\u001b[49m\n\u001b[0;32m    965\u001b[0m \u001b[43m    \u001b[49m\u001b[43mX\u001b[49m\u001b[43m,\u001b[49m\n\u001b[0;32m    966\u001b[0m \u001b[43m    \u001b[49m\u001b[43maccept_sparse\u001b[49m\u001b[38;5;241;43m=\u001b[39;49m\u001b[43maccept_sparse\u001b[49m\u001b[43m,\u001b[49m\n\u001b[0;32m    967\u001b[0m \u001b[43m    \u001b[49m\u001b[43maccept_large_sparse\u001b[49m\u001b[38;5;241;43m=\u001b[39;49m\u001b[43maccept_large_sparse\u001b[49m\u001b[43m,\u001b[49m\n\u001b[0;32m    968\u001b[0m \u001b[43m    \u001b[49m\u001b[43mdtype\u001b[49m\u001b[38;5;241;43m=\u001b[39;49m\u001b[43mdtype\u001b[49m\u001b[43m,\u001b[49m\n\u001b[0;32m    969\u001b[0m \u001b[43m    \u001b[49m\u001b[43morder\u001b[49m\u001b[38;5;241;43m=\u001b[39;49m\u001b[43morder\u001b[49m\u001b[43m,\u001b[49m\n\u001b[0;32m    970\u001b[0m \u001b[43m    \u001b[49m\u001b[43mcopy\u001b[49m\u001b[38;5;241;43m=\u001b[39;49m\u001b[43mcopy\u001b[49m\u001b[43m,\u001b[49m\n\u001b[0;32m    971\u001b[0m \u001b[43m    \u001b[49m\u001b[43mforce_all_finite\u001b[49m\u001b[38;5;241;43m=\u001b[39;49m\u001b[43mforce_all_finite\u001b[49m\u001b[43m,\u001b[49m\n\u001b[0;32m    972\u001b[0m \u001b[43m    \u001b[49m\u001b[43mensure_2d\u001b[49m\u001b[38;5;241;43m=\u001b[39;49m\u001b[43mensure_2d\u001b[49m\u001b[43m,\u001b[49m\n\u001b[0;32m    973\u001b[0m \u001b[43m    \u001b[49m\u001b[43mallow_nd\u001b[49m\u001b[38;5;241;43m=\u001b[39;49m\u001b[43mallow_nd\u001b[49m\u001b[43m,\u001b[49m\n\u001b[0;32m    974\u001b[0m \u001b[43m    \u001b[49m\u001b[43mensure_min_samples\u001b[49m\u001b[38;5;241;43m=\u001b[39;49m\u001b[43mensure_min_samples\u001b[49m\u001b[43m,\u001b[49m\n\u001b[0;32m    975\u001b[0m \u001b[43m    \u001b[49m\u001b[43mensure_min_features\u001b[49m\u001b[38;5;241;43m=\u001b[39;49m\u001b[43mensure_min_features\u001b[49m\u001b[43m,\u001b[49m\n\u001b[0;32m    976\u001b[0m \u001b[43m    \u001b[49m\u001b[43mestimator\u001b[49m\u001b[38;5;241;43m=\u001b[39;49m\u001b[43mestimator\u001b[49m\u001b[43m,\u001b[49m\n\u001b[0;32m    977\u001b[0m \u001b[43m\u001b[49m\u001b[43m)\u001b[49m\n\u001b[0;32m    979\u001b[0m y \u001b[38;5;241m=\u001b[39m _check_y(y, multi_output\u001b[38;5;241m=\u001b[39mmulti_output, y_numeric\u001b[38;5;241m=\u001b[39my_numeric)\n\u001b[0;32m    981\u001b[0m check_consistent_length(X, y)\n",
      "File \u001b[1;32mc:\\Users\\haiho\\anaconda3\\lib\\site-packages\\sklearn\\utils\\validation.py:800\u001b[0m, in \u001b[0;36mcheck_array\u001b[1;34m(array, accept_sparse, accept_large_sparse, dtype, order, copy, force_all_finite, ensure_2d, allow_nd, ensure_min_samples, ensure_min_features, estimator)\u001b[0m\n\u001b[0;32m    794\u001b[0m         \u001b[38;5;28;01mraise\u001b[39;00m \u001b[38;5;167;01mValueError\u001b[39;00m(\n\u001b[0;32m    795\u001b[0m             \u001b[38;5;124m\"\u001b[39m\u001b[38;5;124mFound array with dim \u001b[39m\u001b[38;5;132;01m%d\u001b[39;00m\u001b[38;5;124m. \u001b[39m\u001b[38;5;132;01m%s\u001b[39;00m\u001b[38;5;124m expected <= 2.\u001b[39m\u001b[38;5;124m\"\u001b[39m\n\u001b[0;32m    796\u001b[0m             \u001b[38;5;241m%\u001b[39m (array\u001b[38;5;241m.\u001b[39mndim, estimator_name)\n\u001b[0;32m    797\u001b[0m         )\n\u001b[0;32m    799\u001b[0m     \u001b[38;5;28;01mif\u001b[39;00m force_all_finite:\n\u001b[1;32m--> 800\u001b[0m         \u001b[43m_assert_all_finite\u001b[49m\u001b[43m(\u001b[49m\u001b[43marray\u001b[49m\u001b[43m,\u001b[49m\u001b[43m \u001b[49m\u001b[43mallow_nan\u001b[49m\u001b[38;5;241;43m=\u001b[39;49m\u001b[43mforce_all_finite\u001b[49m\u001b[43m \u001b[49m\u001b[38;5;241;43m==\u001b[39;49m\u001b[43m \u001b[49m\u001b[38;5;124;43m\"\u001b[39;49m\u001b[38;5;124;43mallow-nan\u001b[39;49m\u001b[38;5;124;43m\"\u001b[39;49m\u001b[43m)\u001b[49m\n\u001b[0;32m    802\u001b[0m \u001b[38;5;28;01mif\u001b[39;00m ensure_min_samples \u001b[38;5;241m>\u001b[39m \u001b[38;5;241m0\u001b[39m:\n\u001b[0;32m    803\u001b[0m     n_samples \u001b[38;5;241m=\u001b[39m _num_samples(array)\n",
      "File \u001b[1;32mc:\\Users\\haiho\\anaconda3\\lib\\site-packages\\sklearn\\utils\\validation.py:114\u001b[0m, in \u001b[0;36m_assert_all_finite\u001b[1;34m(X, allow_nan, msg_dtype)\u001b[0m\n\u001b[0;32m    107\u001b[0m     \u001b[38;5;28;01mif\u001b[39;00m (\n\u001b[0;32m    108\u001b[0m         allow_nan\n\u001b[0;32m    109\u001b[0m         \u001b[38;5;129;01mand\u001b[39;00m np\u001b[38;5;241m.\u001b[39misinf(X)\u001b[38;5;241m.\u001b[39many()\n\u001b[0;32m    110\u001b[0m         \u001b[38;5;129;01mor\u001b[39;00m \u001b[38;5;129;01mnot\u001b[39;00m allow_nan\n\u001b[0;32m    111\u001b[0m         \u001b[38;5;129;01mand\u001b[39;00m \u001b[38;5;129;01mnot\u001b[39;00m np\u001b[38;5;241m.\u001b[39misfinite(X)\u001b[38;5;241m.\u001b[39mall()\n\u001b[0;32m    112\u001b[0m     ):\n\u001b[0;32m    113\u001b[0m         type_err \u001b[38;5;241m=\u001b[39m \u001b[38;5;124m\"\u001b[39m\u001b[38;5;124minfinity\u001b[39m\u001b[38;5;124m\"\u001b[39m \u001b[38;5;28;01mif\u001b[39;00m allow_nan \u001b[38;5;28;01melse\u001b[39;00m \u001b[38;5;124m\"\u001b[39m\u001b[38;5;124mNaN, infinity\u001b[39m\u001b[38;5;124m\"\u001b[39m\n\u001b[1;32m--> 114\u001b[0m         \u001b[38;5;28;01mraise\u001b[39;00m \u001b[38;5;167;01mValueError\u001b[39;00m(\n\u001b[0;32m    115\u001b[0m             msg_err\u001b[38;5;241m.\u001b[39mformat(\n\u001b[0;32m    116\u001b[0m                 type_err, msg_dtype \u001b[38;5;28;01mif\u001b[39;00m msg_dtype \u001b[38;5;129;01mis\u001b[39;00m \u001b[38;5;129;01mnot\u001b[39;00m \u001b[38;5;28;01mNone\u001b[39;00m \u001b[38;5;28;01melse\u001b[39;00m X\u001b[38;5;241m.\u001b[39mdtype\n\u001b[0;32m    117\u001b[0m             )\n\u001b[0;32m    118\u001b[0m         )\n\u001b[0;32m    119\u001b[0m \u001b[38;5;66;03m# for object dtype data, we only check for NaNs (GH-13254)\u001b[39;00m\n\u001b[0;32m    120\u001b[0m \u001b[38;5;28;01melif\u001b[39;00m X\u001b[38;5;241m.\u001b[39mdtype \u001b[38;5;241m==\u001b[39m np\u001b[38;5;241m.\u001b[39mdtype(\u001b[38;5;124m\"\u001b[39m\u001b[38;5;124mobject\u001b[39m\u001b[38;5;124m\"\u001b[39m) \u001b[38;5;129;01mand\u001b[39;00m \u001b[38;5;129;01mnot\u001b[39;00m allow_nan:\n",
      "\u001b[1;31mValueError\u001b[0m: Input contains NaN, infinity or a value too large for dtype('float64')."
     ]
    }
   ],
   "source": [
    "lin_reg = LinearRegression()\n",
    "lin_reg.fit(X_train, y_train)\n",
    "\n",
    "y_pred_lr = lin_reg.predict(X_test)\n",
    "print(f\"Linear Regression - R²: {r2_score(y_test, y_pred_lr):.3f}\")"
   ]
  },
  {
   "cell_type": "markdown",
   "id": "f794c12d",
   "metadata": {},
   "source": [
    "### 3. Train Multiple Models with Cross-Validation"
   ]
  },
  {
   "cell_type": "markdown",
   "id": "2dbb3bda",
   "metadata": {},
   "source": [
    "In this step, we train multiple regression models and evaluate their performance using **5-fold cross-validation**. \n",
    "\n",
    "- We define a dictionary of models, including:\n",
    "  - **Decision Tree**\n",
    "  - **Random Forest**\n",
    "  - **Gradient Boosting**\n",
    "  - **XGBoost**\n",
    "  - **LightGBM**\n",
    "\n",
    "- Each model is trained and evaluated using the previously defined `evaluate_model` function.\n",
    "- The results are stored in a **DataFrame** and sorted based on the **Mean R² score**, allowing us to compare model performance.\n",
    "\n",
    "This process helps us determine which model generalizes best to our dataset before further fine-tuning.\n"
   ]
  },
  {
   "cell_type": "code",
   "execution_count": null,
   "id": "a12eadae",
   "metadata": {},
   "outputs": [],
   "source": [
    "# Define multiple models with their parameters \n",
    "models = {\n",
    "    \"Decision Tree\": DecisionTreeRegressor(random_state=42),\n",
    "    \"Random Forest\": RandomForestRegressor(n_estimators=100, random_state=42),\n",
    "    \"Gradient Boosting\": GradientBoostingRegressor(n_estimators=100, learning_rate=0.1, random_state=42),\n",
    "    \"XGBoost\": xgb.XGBRegressor(n_estimators=100, learning_rate=0.1, random_state=42),\n",
    "    \"LightGBM\": lgb.LGBMRegressor(n_estimators=100, learning_rate=0.1, random_state=42),\n",
    "}"
   ]
  },
  {
   "cell_type": "code",
   "execution_count": null,
   "id": "d316ec56",
   "metadata": {},
   "outputs": [],
   "source": [
    "# Store cross-validation results\n",
    "cv_results = {name: evaluate_model(model, X_train, y_train) for name, model in models.items()}"
   ]
  },
  {
   "cell_type": "code",
   "execution_count": null,
   "id": "07d403f6",
   "metadata": {},
   "outputs": [],
   "source": [
    "df_cv_results = pd.DataFrame(cv_results.items(), columns=[\"Model\", \"Mean R²\"]).sort_values(by=\"Mean R²\", ascending=False)"
   ]
  },
  {
   "cell_type": "markdown",
   "id": "b4746599",
   "metadata": {},
   "source": [
    "### 4. Hyperparameter Tuning with GridSearchCV"
   ]
  },
  {
   "cell_type": "markdown",
   "id": "be08a361",
   "metadata": {},
   "source": [
    "Selecting appropriate hyperparameter values for models like Random Forest, Gradient Boosting, XGBoost, and LightGBM is crucial for optimizing performance. Those ranges of values for each parameter of each model is carefully selected with a logic: \n",
    "- **Start with Defaults**: Begin with default settings to establish a baseline.\n",
    "- **Incremental Testing**: Adjust one parameter at a time to observe its impact.\n",
    "- **Cross-Validation**: Use techniques like GridSearchCV to systematically explore combinations.\n",
    "- **Computational Resources**: Balance the depth and number of trees with available resources to manage training time."
   ]
  },
  {
   "cell_type": "code",
   "execution_count": null,
   "id": "541ce950",
   "metadata": {},
   "outputs": [],
   "source": [
    "param_grids = {\n",
    "    \"Random Forest\": {\n",
    "        \"n_estimators\": [100, 300, 500],\n",
    "        \"max_depth\": [10, 20, None],\n",
    "        \"min_samples_split\": [2, 5, 10],\n",
    "    },\n",
    "    \"Gradient Boosting\": {\n",
    "        \"n_estimators\": [100, 300, 500],\n",
    "        \"learning_rate\": [0.01, 0.1, 0.2],\n",
    "        \"max_depth\": [3, 5, 7],\n",
    "    },\n",
    "    \"XGBoost\": {\n",
    "        \"n_estimators\": [100, 300, 500],\n",
    "        \"learning_rate\": [0.01, 0.1, 0.2],\n",
    "        \"max_depth\": [3, 6, 9],\n",
    "    },\n",
    "    \"LightGBM\": {\n",
    "        \"n_estimators\": [100, 300, 500],\n",
    "        \"learning_rate\": [0.01, 0.1, 0.2],\n",
    "        \"num_leaves\": [20, 31, 40],\n",
    "    },\n",
    "}"
   ]
  },
  {
   "cell_type": "code",
   "execution_count": null,
   "id": "cd3a7c2b",
   "metadata": {},
   "outputs": [],
   "source": [
    "best_models = {}\n",
    "\n",
    "for name, model in models.items():\n",
    "    print(f\"\\n🔍 Tuning {name}...\")\n",
    "    grid_search = GridSearchCV(model, param_grids[name], cv=5, scoring=\"r2\", n_jobs=-1, verbose=1)\n",
    "    grid_search.fit(X_train, y_train)\n",
    "    best_models[name] = grid_search.best_estimator_\n",
    "    print(f\"✅ Best {name} Parameters: {grid_search.best_params_}\")"
   ]
  },
  {
   "cell_type": "markdown",
   "id": "754eb1c7",
   "metadata": {},
   "source": [
    "### 5. Bayesian Optimization for Faster Tuning"
   ]
  },
  {
   "cell_type": "markdown",
   "id": "16a6939d",
   "metadata": {},
   "source": [
    "In our Airbnb price prediction project, Bayesian Optimization serves as an advanced method for hyperparameter tuning. Unlike traditional approaches like grid or random search, Bayesian Optimization builds a probabilistic model of the objective function and uses this model to select the most promising hyperparameters to evaluate next."
   ]
  },
  {
   "cell_type": "code",
   "execution_count": null,
   "id": "b25098d8",
   "metadata": {},
   "outputs": [],
   "source": [
    "bayes_params = {\n",
    "    \"Random Forest\": {\n",
    "        \"n_estimators\": (100, 500),\n",
    "        \"max_depth\": (5, 50),\n",
    "        \"min_samples_split\": (2, 10),\n",
    "    },\n",
    "    \"XGBoost\": {\n",
    "        \"n_estimators\": (100, 500),\n",
    "        \"learning_rate\": (0.01, 0.3, \"log-uniform\"),\n",
    "        \"max_depth\": (3, 9),\n",
    "    },\n",
    "}"
   ]
  },
  {
   "cell_type": "code",
   "execution_count": null,
   "id": "05817027",
   "metadata": {},
   "outputs": [],
   "source": [
    "bayes_best_models = {}\n",
    "\n",
    "for name in [\"Random Forest\", \"XGBoost\"]:\n",
    "    print(f\"\\n🚀 Bayesian Optimization for {name}...\")\n",
    "    bayes_opt = BayesSearchCV(models[name], bayes_params[name], n_iter=20, cv=5, scoring=\"r2\", n_jobs=-1, verbose=1)\n",
    "    bayes_opt.fit(X_train, y_train)\n",
    "    bayes_best_models[name] = bayes_opt.best_estimator_\n",
    "    print(f\"✅ Best {name} Parameters (Bayesian): {bayes_opt.best_params_}\")"
   ]
  },
  {
   "cell_type": "markdown",
   "id": "79a27d53",
   "metadata": {},
   "source": [
    "### 6. Model Comparison"
   ]
  },
  {
   "cell_type": "code",
   "execution_count": null,
   "id": "2956f82f",
   "metadata": {},
   "outputs": [],
   "source": [
    "final_models = {**best_models, **bayes_best_models}"
   ]
  },
  {
   "cell_type": "code",
   "execution_count": null,
   "id": "d9b3404d",
   "metadata": {},
   "outputs": [],
   "source": [
    "results = {name: r2_score(y_test, model.predict(X_test)) for name, model in final_models.items()}\n",
    "df_results = pd.DataFrame(results.items(), columns=[\"Model\", \"R² Score\"]).sort_values(by=\"R² Score\", ascending=False)"
   ]
  },
  {
   "cell_type": "code",
   "execution_count": null,
   "id": "42e74f5a",
   "metadata": {},
   "outputs": [],
   "source": [
    "plt.figure(figsize=(8, 5))\n",
    "sns.barplot(data=df_results, x=\"Model\", y=\"R² Score\", palette=\"coolwarm\")\n",
    "plt.xticks(rotation=45)\n",
    "plt.title(\"Final Model Performance Comparison\")\n",
    "plt.show()"
   ]
  },
  {
   "cell_type": "markdown",
   "id": "64996603",
   "metadata": {},
   "source": [
    "### 7. Save the Best Model"
   ]
  },
  {
   "cell_type": "code",
   "execution_count": null,
   "id": "d7fa427a",
   "metadata": {},
   "outputs": [],
   "source": [
    "best_model_name = df_results.iloc[0][\"Model\"]\n",
    "best_model = final_models[best_model_name]\n",
    "joblib.dump(best_model, f\"results/best_model.pkl\")"
   ]
  },
  {
   "cell_type": "code",
   "execution_count": null,
   "id": "e893c2b4",
   "metadata": {},
   "outputs": [],
   "source": [
    "print(f\"\\n✅ Best model saved: {best_model_name}\")"
   ]
  },
  {
   "attachments": {},
   "cell_type": "markdown",
   "id": "64d55a98-90ac-45f5-b196-00088ec91282",
   "metadata": {},
   "source": [
    "### Model 1. Multiple Linear Regression"
   ]
  },
  {
   "attachments": {},
   "cell_type": "markdown",
   "id": "e9755cfb-5653-4720-a406-7721e8add383",
   "metadata": {},
   "source": [
    "`Overview:` \n",
    "\n",
    "Multiple linear regression (MLR) uses several explanatory variables to predict the outcome of a dependent variable. The goal of multiple linear regression is to model the linear relationship between the explanatory (independent) variables and response (dependent) variables."
   ]
  },
  {
   "cell_type": "code",
   "execution_count": null,
   "id": "ee0a0def-bb11-4030-b562-67952719c3c2",
   "metadata": {},
   "outputs": [
    {
     "data": {
      "text/plain": [
       "LinearRegression()"
      ]
     },
     "execution_count": 81,
     "metadata": {},
     "output_type": "execute_result"
    },
    {
     "name": "stdout",
     "output_type": "stream",
     "text": [
      "MSE after applying Multiple Linear Regression: 57624.206\n",
      "R^2 after applying Multiple Linear Regression: 0.498\n"
     ]
    }
   ],
   "source": [
    "# Create MLR instance and fit the processed train data\n",
    "lr = LinearRegression()\n",
    "\n",
    "lr.fit(X, y)\n",
    "\n",
    "y_lr = lr.predict(X)\n",
    "\n",
    "# print(f'MSE after applying Multiple Linear Regression: {mean_squared_error(y, lr_y):.3f}')\n",
    "# print(f'R^2 after applying Multiple Linear Regression: {r2_score(y, lr_y):.3f}')"
   ]
  },
  {
   "cell_type": "code",
   "execution_count": null,
   "id": "c38ba460",
   "metadata": {},
   "outputs": [],
   "source": [
    "# Retrieve MSE and R-Squared results after applying the model\n",
    "print(f'MSE after applying Multiple Linear Regression: {mean_squared_error(y, y_lr):.3f}')\n",
    "print(f'R^2 after applying Multiple Linear Regression: {r2_score(y, y_lr):.3f}')"
   ]
  },
  {
   "cell_type": "code",
   "execution_count": null,
   "id": "6f5fc49c-5ecf-4ab3-ba11-9ef2b0e4cf83",
   "metadata": {},
   "outputs": [],
   "source": [
    "# Define cross-validation method to use\n",
    "cv_lr = KFold(n_splits=5, random_state=1, shuffle=True)\n",
    "\n",
    "# Apply k-fold CV to evaluate model performance\n",
    "scores_lr = cross_val_score(lr, X, y, scoring='neg_mean_squared_error', cv=cv_lr, n_jobs=-1)"
   ]
  },
  {
   "cell_type": "code",
   "execution_count": null,
   "id": "c66f5ef4-c9f9-4706-a382-95b7892b3b7b",
   "metadata": {},
   "outputs": [
    {
     "name": "stdout",
     "output_type": "stream",
     "text": [
      "Cross validation score: -65113.582\n"
     ]
    }
   ],
   "source": [
    "# Print the c-v score for multiple linear regression model\n",
    "print(f'Cross validation score: {scores_lr.mean():.3f}')"
   ]
  },
  {
   "attachments": {},
   "cell_type": "markdown",
   "id": "ef734d53-994a-4ee1-84ff-287c852416f2",
   "metadata": {},
   "source": [
    "`Interpretation:`\n",
    "\n",
    "The Mean Squared Error seems too high and the model only captures nearly 50% of the variance in the target variable `price`. This therefore indicates that the train dataset does not follow a linear relationship significantly. However, other nonlinear regression models' outcomes are carefully assessed to reinforce this conclusion."
   ]
  },
  {
   "cell_type": "markdown",
   "id": "e3535cc0-beb1-4d80-9c63-363da898c3a0",
   "metadata": {},
   "source": [
    "2 lists including Mean Squared Error results and cross validation scores are built to compare the performance of all models."
   ]
  },
  {
   "cell_type": "code",
   "execution_count": null,
   "id": "465509cc-a092-4263-a7f4-5b2a4c8605ff",
   "metadata": {},
   "outputs": [],
   "source": [
    "# List of MSE and cross validation scores of models\n",
    "model_mse = []\n",
    "model_mse.append(mean_squared_error(y, y_lr))\n",
    "\n",
    "model_scores = []\n",
    "model_scores.append(scores_lr.mean())"
   ]
  },
  {
   "attachments": {},
   "cell_type": "markdown",
   "id": "e2243a22-ac57-472d-915c-102a455954c1",
   "metadata": {},
   "source": [
    "### Model 2. Random Forest Regressor"
   ]
  },
  {
   "cell_type": "markdown",
   "id": "abc8bf15-8acc-48ef-af97-ccc63d40ab94",
   "metadata": {},
   "source": [
    "`Overview:` \n",
    "\n",
    "Random Forest is an ensemble technique capable of performing both regression and classification tasks with the use of multiple decision trees and a technique called Bootstrap Aggregation, commonly known as bagging. The basic idea behind this is to combine multiple decision trees in determining the final output rather than relying on individual decision trees."
   ]
  },
  {
   "attachments": {},
   "cell_type": "markdown",
   "id": "fab7ff94-6bca-49fd-88f7-00c9f9de295b",
   "metadata": {},
   "source": [
    "`Default model:`"
   ]
  },
  {
   "cell_type": "code",
   "execution_count": null,
   "id": "6acf05ef-757e-46e0-a46b-76b3f0a8186e",
   "metadata": {},
   "outputs": [
    {
     "data": {
      "text/plain": [
       "RandomForestRegressor()"
      ]
     },
     "execution_count": 85,
     "metadata": {},
     "output_type": "execute_result"
    },
    {
     "name": "stdout",
     "output_type": "stream",
     "text": [
      "MSE train after applying Random Forest Regression: 5577.452\n",
      "R^2 train after applying Random Forest Regression: 0.951\n"
     ]
    }
   ],
   "source": [
    "# Create RF instance\n",
    "forest = RandomForestRegressor()\n",
    "\n",
    "forest.fit(X, y)\n",
    "\n",
    "y_forest = forest.predict(X)\n",
    "\n",
    "# print(f'MSE train after applying Random Forest Regression: {mean_squared_error(y, y_forest):.3f}')\n",
    "# print(f'R^2 train after applying Random Forest Regression: {r2_score(y, y_forest):.3f}')"
   ]
  },
  {
   "cell_type": "code",
   "execution_count": null,
   "id": "949de876",
   "metadata": {},
   "outputs": [],
   "source": [
    "# Retrieve MSE and R-Squared results after applying the model\n",
    "print(f'MSE train after applying Random Forest Regression: {mean_squared_error(y, y_forest):.3f}')\n",
    "print(f'R^2 train after applying Random Forest Regression: {r2_score(y, y_forest):.3f}')"
   ]
  },
  {
   "cell_type": "code",
   "execution_count": null,
   "id": "d833451a-8639-4703-a344-c59f399c6f72",
   "metadata": {},
   "outputs": [
    {
     "name": "stdout",
     "output_type": "stream",
     "text": [
      "Cross validation score: 0.624\n"
     ]
    }
   ],
   "source": [
    "# Use K-fold CV to evaluate model performance\n",
    "fr_scores = cross_val_score(forest, X, y, cv=cv, n_jobs=-1)\n",
    "print(f'Cross validation score: {fr_scores.mean():.3f}')"
   ]
  },
  {
   "cell_type": "markdown",
   "id": "cd1069ce-cd68-4fa8-b566-da8fcca2518f",
   "metadata": {},
   "source": [
    "`Interpretation:`\n",
    "\n",
    "The outputs of the **Random Forest Regression** model on train dataset is proved to be better than **Multiple Linear Regression** with a significantly lower MSE and a high R-squared value of 0.95 indicates that a larger proportion (95%) of the target features have been covered."
   ]
  },
  {
   "attachments": {},
   "cell_type": "markdown",
   "id": "0374ecde-452d-4515-910c-c86ff066f294",
   "metadata": {},
   "source": [
    "`Tuning model:`"
   ]
  },
  {
   "cell_type": "markdown",
   "id": "7d9b3d3b-68f3-48c6-ab13-90d210e9b56b",
   "metadata": {},
   "source": [
    "Hyperparameters tuning technique allows us to tune the hyperparameters to have best performance of the algorithm. In this case, there are a total of 5 important parameters that we will set value ranges for: \n",
    "- n_estimators: number of trees in the forest\n",
    "- max_depth: max number of levels in each decision tree \n",
    "- max_features: max number of features considered for splitting a node\n",
    "- criterion: method to check\n",
    "- bootstrap: method for sampling data points \n",
    "\n",
    "By using RandomizeSearchCV method, we can define a grid of hyperparameter ranges, and randomly from the grid, conducting K-Fold Cross Validation with each combination of values."
   ]
  },
  {
   "cell_type": "code",
   "execution_count": null,
   "id": "834bfb42-e40e-47fc-846f-f925417d0738",
   "metadata": {},
   "outputs": [],
   "source": [
    "# Number of trees in Random Forest\n",
    "n_estimators = [int(x) for x in np.linspace(start = 50, stop = 300, num = 50)]\n",
    "\n",
    "# Maximum number of levels in tree\n",
    "max_depth = [10,15]\n",
    "\n",
    "# Number of features to consider at every split\n",
    "max_features = [int(x) for x in np.linspace(10, 3, num = 3)]\n",
    "\n",
    "# Criterion to split on\n",
    "criterion = ['mse']\n",
    "\n",
    "# Method of selecting samples for training each tree\n",
    "bootstrap = [True, False]\n",
    "\n",
    "# Create the grid\n",
    "grid = {'n_estimators': n_estimators,\n",
    "        'max_depth': max_depth,\n",
    "        'max_features': max_features,\n",
    "        'criterion': criterion,            \n",
    "        'bootstrap': bootstrap}"
   ]
  },
  {
   "cell_type": "markdown",
   "id": "47587c5a-3e1b-4ce0-9f67-3841a90c2955",
   "metadata": {},
   "source": [
    "After fitting another Random Forest Regressor model and completing the random search, the optimal parameters for the model can be determined."
   ]
  },
  {
   "cell_type": "code",
   "execution_count": 90,
   "id": "efc23457-6d59-44e9-b329-8211b6d79961",
   "metadata": {},
   "outputs": [
    {
     "name": "stdout",
     "output_type": "stream",
     "text": [
      "Fitting 3 folds for each of 10 candidates, totalling 30 fits\n"
     ]
    },
    {
     "data": {
      "text/plain": [
       "RandomizedSearchCV(cv=3, estimator=RandomForestRegressor(), n_jobs=-1,\n",
       "                   param_distributions={'bootstrap': [True, False],\n",
       "                                        'criterion': ['mse'],\n",
       "                                        'max_depth': [10, 15],\n",
       "                                        'max_features': [10, 6, 3],\n",
       "                                        'n_estimators': [50, 55, 60, 65, 70, 75,\n",
       "                                                         80, 85, 90, 95, 101,\n",
       "                                                         106, 111, 116, 121,\n",
       "                                                         126, 131, 136, 141,\n",
       "                                                         146, 152, 157, 162,\n",
       "                                                         167, 172, 177, 182,\n",
       "                                                         187, 192, 197, ...]},\n",
       "                   random_state=42, verbose=2)"
      ]
     },
     "execution_count": 90,
     "metadata": {},
     "output_type": "execute_result"
    },
    {
     "data": {
      "text/plain": [
       "{'n_estimators': 146,\n",
       " 'max_features': 10,\n",
       " 'max_depth': 15,\n",
       " 'criterion': 'mse',\n",
       " 'bootstrap': False}"
      ]
     },
     "execution_count": 90,
     "metadata": {},
     "output_type": "execute_result"
    }
   ],
   "source": [
    "# Create the model to be tuned\n",
    "fr_tune = RandomForestRegressor()\n",
    "\n",
    "# Create the random search Random Forest\n",
    "fr_grid = RandomizedSearchCV(estimator = fr_tune, param_distributions = grid, cv = 3, verbose = 2, random_state = 42, n_jobs = -1)\n",
    "\n",
    "# Fit the random search model\n",
    "fr_grid.fit(X, y)\n",
    "\n",
    "# View the best parameters from the random search\n",
    "fr_grid.best_params_"
   ]
  },
  {
   "cell_type": "markdown",
   "id": "1b277286-7ec8-4bc4-936c-95be26ce7290",
   "metadata": {},
   "source": [
    "Now we re-fit the model with the best parameters achieved from the random search and generate the corresponding MSE and R-squared values. "
   ]
  },
  {
   "cell_type": "code",
   "execution_count": 91,
   "id": "aa0fc36e-375f-435d-aa80-237dd1faac38",
   "metadata": {},
   "outputs": [
    {
     "data": {
      "text/plain": [
       "RandomForestRegressor(bootstrap=False, max_depth=15, max_features=10,\n",
       "                      n_estimators=146)"
      ]
     },
     "execution_count": 91,
     "metadata": {},
     "output_type": "execute_result"
    }
   ],
   "source": [
    "tune_forest = RandomForestRegressor(n_estimators = 146, criterion = 'mse', max_features = 10, max_depth= 15, bootstrap=False) \n",
    "tune_forest.fit(X, y)"
   ]
  },
  {
   "cell_type": "code",
   "execution_count": 92,
   "id": "f0a550e3-645a-43d0-96a1-033cf50b9132",
   "metadata": {},
   "outputs": [],
   "source": [
    "tune_forest_y = tune_forest.predict(X)"
   ]
  },
  {
   "cell_type": "code",
   "execution_count": 93,
   "id": "682c6e43-7498-443e-9743-40aec015c0bf",
   "metadata": {},
   "outputs": [
    {
     "name": "stdout",
     "output_type": "stream",
     "text": [
      "MSE train after tuning hyperparameters: 950.539\n",
      "R^2 train after tunign hyperparameters: 0.992\n"
     ]
    }
   ],
   "source": [
    "print(f'MSE train after tuning hyperparameters: {mean_squared_error(y, tune_forest_y):.3f}')\n",
    "print(f'R^2 train after tunign hyperparameters: {r2_score(y, tune_forest_y):.3f}')"
   ]
  },
  {
   "cell_type": "markdown",
   "id": "a613c15b-0299-4c74-af46-87d0d4a1ee32",
   "metadata": {},
   "source": [
    "It is evident the model's performance has been significantly improved since the Mean Squared Error drops to below 100 and a nearly perfect R-squared value of 0.992 is recorded. "
   ]
  },
  {
   "cell_type": "code",
   "execution_count": 94,
   "id": "90ac1db5-0d9b-469f-bfee-ba7ae971305e",
   "metadata": {},
   "outputs": [
    {
     "name": "stdout",
     "output_type": "stream",
     "text": [
      "Cross validation score: 0.663\n"
     ]
    }
   ],
   "source": [
    "#use k-fold CV to evaluate model\n",
    "tune_fr_scores = cross_val_score(tune_forest, X, y, cv=cv, n_jobs=-1)\n",
    "print(f'Cross validation score: {tune_fr_scores.mean():.3f}')"
   ]
  },
  {
   "cell_type": "markdown",
   "id": "d8331687-b8f0-4606-a4cb-f3ca2c282322",
   "metadata": {},
   "source": [
    "In comparison with the default model, the cross validation score of the tuned Random Forest is slight higher which also indicates improvements in the model's performance."
   ]
  },
  {
   "cell_type": "code",
   "execution_count": 96,
   "id": "6960ff93-64e5-4535-b258-27a55acd7b12",
   "metadata": {},
   "outputs": [],
   "source": [
    "#Append the outputs of the Random Forest models\n",
    "model_mse.append(mean_squared_error(y, forest_y))\n",
    "model_mse.append(mean_squared_error(y, tune_forest_y))\n",
    "model_scores.append(fr_scores.mean())\n",
    "model_scores.append(tune_fr_scores.mean())"
   ]
  },
  {
   "attachments": {},
   "cell_type": "markdown",
   "id": "c0f902d1-261b-498d-ab73-bf7f5ca43f8d",
   "metadata": {},
   "source": [
    "### Model 3. Bagging Regressor"
   ]
  },
  {
   "cell_type": "markdown",
   "id": "47883692-5627-4ef9-934a-18d81799d636",
   "metadata": {},
   "source": [
    "Overview: Bagging Regressor is an ensemble estimator which fits base estimator on each random subset of the training dataset and then aggregates their individual predictions to form a final prediction using voting or averaging method."
   ]
  },
  {
   "attachments": {},
   "cell_type": "markdown",
   "id": "88a01a4c-2e79-4ab9-ad80-ad781ee9341c",
   "metadata": {},
   "source": [
    "`Default model:`"
   ]
  },
  {
   "cell_type": "code",
   "execution_count": 97,
   "id": "dc2f4bd1-7ce7-4b39-8d4c-2b62fa7968fd",
   "metadata": {},
   "outputs": [
    {
     "data": {
      "text/plain": [
       "BaggingRegressor()"
      ]
     },
     "execution_count": 97,
     "metadata": {},
     "output_type": "execute_result"
    },
    {
     "name": "stdout",
     "output_type": "stream",
     "text": [
      "MSE after applying Bagging Regressor: 8031.500\n",
      "R^2 after applying Bagging Regressor: 0.930\n"
     ]
    }
   ],
   "source": [
    "#Create instance\n",
    "bag = BaggingRegressor()\n",
    "\n",
    "bag.fit(X, y)\n",
    "\n",
    "bag_y = bag.predict(X)\n",
    "\n",
    "print(f'MSE after applying Bagging Regressor: {mean_squared_error(y, bag_y):.3f}')\n",
    "print(f'R^2 after applying Bagging Regressor: {r2_score(y, bag_y):.3f}')"
   ]
  },
  {
   "cell_type": "code",
   "execution_count": 98,
   "id": "d93158ee-59b2-44fc-bdd9-5414c2ef5abb",
   "metadata": {},
   "outputs": [
    {
     "name": "stdout",
     "output_type": "stream",
     "text": [
      "Cross validation score: 0.603\n"
     ]
    }
   ],
   "source": [
    "#use k-fold CV to evaluate model\n",
    "bag_scores = cross_val_score(bag, X, y, cv=cv, n_jobs=-1)\n",
    "print(f'Cross validation score: {bag_scores.mean():.3f}')"
   ]
  },
  {
   "cell_type": "markdown",
   "id": "9237211b-8aa4-423d-8ef6-64d2168a56e0",
   "metadata": {},
   "source": [
    "*Interpretation:* \n",
    "\n",
    "The outputs of the default Bagging Regressor model seems to be not as good as those of Random Forest Regressor due to higher MSE and lower R-quared value (0.93). Therefore, we need to examine whether tuning hyperparameters can improve the model's performance or not."
   ]
  },
  {
   "attachments": {},
   "cell_type": "markdown",
   "id": "e1f946c6-ed59-41ab-a29e-0920740660eb",
   "metadata": {},
   "source": [
    "`Tuning model:`"
   ]
  },
  {
   "cell_type": "markdown",
   "id": "80a2bdd8-77ad-4975-814e-28a57dfc548f",
   "metadata": {},
   "source": [
    "For the hyperparameters tuning process of the Bagging Regressor, we consider 4 main factors: \n",
    "- n_estimators: number of base estimators in the ensemble\n",
    "- max_features: number of features to train each base estimator \n",
    "- bootstrap: method for sampling data points\n",
    "- bootstrap_features: whether features are drawn with replacement or not.\n",
    "\n",
    "By using RandomizeSearchCV method, we can define a grid of hyperparameter ranges, and randomly from the grid, conducting K-Fold Cross Validation with each combination of values."
   ]
  },
  {
   "cell_type": "code",
   "execution_count": 99,
   "id": "3af1dcb0-32f1-4cbc-b98a-376d1ca774ea",
   "metadata": {},
   "outputs": [],
   "source": [
    "bag_n_estimators = [int(x) for x in np.linspace(start = 50, stop = 300, num = 50)]\n",
    "\n",
    "bag_max_features = [int(x) for x in np.linspace(10, 3, num = 3)]\n",
    "\n",
    "bag_bootstrap = [True, False]\n",
    "bag_bootstrap_features = [True, False]\n",
    "\n",
    "# Create the grid\n",
    "bag_grid = {'n_estimators': bag_n_estimators,\n",
    "        'max_features': bag_max_features,\n",
    "        'bootstrap': bag_bootstrap,\n",
    "        'bootstrap_features': bag_bootstrap_features}"
   ]
  },
  {
   "cell_type": "code",
   "execution_count": 108,
   "id": "b0294603-c1df-4d3e-89f7-667c9f1c4ef1",
   "metadata": {},
   "outputs": [
    {
     "data": {
      "text/plain": [
       "RandomizedSearchCV(estimator=BaggingRegressor(),\n",
       "                   param_distributions={'bootstrap': [True, False],\n",
       "                                        'bootstrap_features': [True, False],\n",
       "                                        'max_features': [10, 6, 3],\n",
       "                                        'n_estimators': [50, 55, 60, 65, 70, 75,\n",
       "                                                         80, 85, 90, 95, 101,\n",
       "                                                         106, 111, 116, 121,\n",
       "                                                         126, 131, 136, 141,\n",
       "                                                         146, 152, 157, 162,\n",
       "                                                         167, 172, 177, 182,\n",
       "                                                         187, 192, 197, ...]})"
      ]
     },
     "execution_count": 108,
     "metadata": {},
     "output_type": "execute_result"
    }
   ],
   "source": [
    "bag_tune = BaggingRegressor()\n",
    "tune_bag = RandomizedSearchCV(bag_tune, param_distributions=bag_grid)\n",
    "tune_bag.fit(X,y)"
   ]
  },
  {
   "cell_type": "code",
   "execution_count": 109,
   "id": "1ad4ece8-6b4f-4e9a-b07e-bf4e3b6bcd4d",
   "metadata": {},
   "outputs": [
    {
     "data": {
      "text/plain": [
       "{'n_estimators': 157,\n",
       " 'max_features': 10,\n",
       " 'bootstrap_features': False,\n",
       " 'bootstrap': True}"
      ]
     },
     "execution_count": 109,
     "metadata": {},
     "output_type": "execute_result"
    }
   ],
   "source": [
    "#View the best parameters from the random search\n",
    "tune_bag.best_params_"
   ]
  },
  {
   "cell_type": "code",
   "execution_count": 110,
   "id": "49ab7085-68b1-4358-9bce-f2ba955c2878",
   "metadata": {},
   "outputs": [],
   "source": [
    "tune_bag_y = tune_bag.predict(X)"
   ]
  },
  {
   "cell_type": "code",
   "execution_count": 111,
   "id": "c8e72cd9-5e5a-4738-9d42-f0c92906706d",
   "metadata": {},
   "outputs": [
    {
     "name": "stdout",
     "output_type": "stream",
     "text": [
      "MSE train after tuning hyperparameters: 8419.433\n",
      "R^2 train after tuning hyperparameters: 0.927\n"
     ]
    }
   ],
   "source": [
    "print(f'MSE train after tuning hyperparameters: {mean_squared_error(y, tune_bag_y):.3f}')\n",
    "print(f'R^2 train after tuning hyperparameters: {r2_score(y, tune_bag_y):.3f}')"
   ]
  },
  {
   "cell_type": "code",
   "execution_count": 113,
   "id": "ce66345b-2c05-4a7a-8ac1-f125f8f25fa4",
   "metadata": {},
   "outputs": [
    {
     "name": "stdout",
     "output_type": "stream",
     "text": [
      "Cross validation score: 0.590\n"
     ]
    }
   ],
   "source": [
    "#Use k-fold CV to evaluate model\n",
    "tune_bag_scores = cross_val_score(tune_bag, X, y, cv=cv, n_jobs=-1)\n",
    "print(f'Cross validation score: {tune_bag_scores.mean():.3f}')"
   ]
  },
  {
   "cell_type": "markdown",
   "id": "d635ac88-dd87-4d81-babe-f7a75e12720d",
   "metadata": {},
   "source": [
    "*Interpretation:* \n",
    "\n",
    "The Bagging Regressor model after tuning hyperparameters clearly has a similar as the default model as there is not significant difference between their MSE or R-squared. Overall, not only for this model but also the Random Forest Regressor, changing parameters allows us to significantly improve the models' performances. Now we can compare all models to determine which one is the most desirable."
   ]
  },
  {
   "cell_type": "code",
   "execution_count": 114,
   "id": "0d506890-8340-4889-9409-33f5fd313ca5",
   "metadata": {},
   "outputs": [],
   "source": [
    "#Append the outputs of the Bagging models\n",
    "model_mse.append(mean_squared_error(y, bag_y))\n",
    "model_mse.append(mean_squared_error(y, tune_bag_y))\n",
    "model_scores.append(bag_scores.mean())\n",
    "model_scores.append(tune_bag_scores.mean())"
   ]
  },
  {
   "attachments": {},
   "cell_type": "markdown",
   "id": "75d0e8d7-091a-428a-990b-853857485a49",
   "metadata": {},
   "source": [
    "### Models Comparison"
   ]
  },
  {
   "cell_type": "markdown",
   "id": "fe3d3da6-5c11-4cd3-b633-48cff48eb2f6",
   "metadata": {},
   "source": [
    "We set up 2 new dataframes for all models' MSE and cross-validation scores."
   ]
  },
  {
   "cell_type": "code",
   "execution_count": 121,
   "id": "9054dd3e-5d64-4c36-b08c-49a72e668318",
   "metadata": {},
   "outputs": [
    {
     "data": {
      "text/html": [
       "<div>\n",
       "<style scoped>\n",
       "    .dataframe tbody tr th:only-of-type {\n",
       "        vertical-align: middle;\n",
       "    }\n",
       "\n",
       "    .dataframe tbody tr th {\n",
       "        vertical-align: top;\n",
       "    }\n",
       "\n",
       "    .dataframe thead th {\n",
       "        text-align: right;\n",
       "    }\n",
       "</style>\n",
       "<table border=\"1\" class=\"dataframe\">\n",
       "  <thead>\n",
       "    <tr style=\"text-align: right;\">\n",
       "      <th></th>\n",
       "      <th>Model Type</th>\n",
       "      <th>MSE</th>\n",
       "    </tr>\n",
       "  </thead>\n",
       "  <tbody>\n",
       "    <tr>\n",
       "      <th>0</th>\n",
       "      <td>MLR</td>\n",
       "      <td>57624.205877</td>\n",
       "    </tr>\n",
       "    <tr>\n",
       "      <th>1</th>\n",
       "      <td>RF</td>\n",
       "      <td>5577.451734</td>\n",
       "    </tr>\n",
       "    <tr>\n",
       "      <th>2</th>\n",
       "      <td>Adjusted RF</td>\n",
       "      <td>950.538941</td>\n",
       "    </tr>\n",
       "    <tr>\n",
       "      <th>3</th>\n",
       "      <td>BR</td>\n",
       "      <td>8031.500430</td>\n",
       "    </tr>\n",
       "    <tr>\n",
       "      <th>4</th>\n",
       "      <td>Adjusted BR</td>\n",
       "      <td>8419.432886</td>\n",
       "    </tr>\n",
       "  </tbody>\n",
       "</table>\n",
       "</div>"
      ],
      "text/plain": [
       "    Model Type           MSE\n",
       "0          MLR  57624.205877\n",
       "1           RF   5577.451734\n",
       "2  Adjusted RF    950.538941\n",
       "3           BR   8031.500430\n",
       "4  Adjusted BR   8419.432886"
      ]
     },
     "execution_count": 121,
     "metadata": {},
     "output_type": "execute_result"
    }
   ],
   "source": [
    "models_mse = [\"MLR\", \"RF\", \"Adjusted RF\", \"BR\", \"Adjusted BR\" ]\n",
    "df_mse = pd.DataFrame(models_mse, columns=[\"Model Type\"])\n",
    "df_mse[\"MSE\"] = model_mse\n",
    "df_mse"
   ]
  },
  {
   "cell_type": "code",
   "execution_count": 118,
   "id": "7901e53e-a060-49e7-af9c-da2e35787940",
   "metadata": {},
   "outputs": [
    {
     "data": {
      "text/html": [
       "<div>\n",
       "<style scoped>\n",
       "    .dataframe tbody tr th:only-of-type {\n",
       "        vertical-align: middle;\n",
       "    }\n",
       "\n",
       "    .dataframe tbody tr th {\n",
       "        vertical-align: top;\n",
       "    }\n",
       "\n",
       "    .dataframe thead th {\n",
       "        text-align: right;\n",
       "    }\n",
       "</style>\n",
       "<table border=\"1\" class=\"dataframe\">\n",
       "  <thead>\n",
       "    <tr style=\"text-align: right;\">\n",
       "      <th></th>\n",
       "      <th>Model Type</th>\n",
       "      <th>Cross-validation score</th>\n",
       "    </tr>\n",
       "  </thead>\n",
       "  <tbody>\n",
       "    <tr>\n",
       "      <th>0</th>\n",
       "      <td>MLR</td>\n",
       "      <td>-65113.582334</td>\n",
       "    </tr>\n",
       "    <tr>\n",
       "      <th>1</th>\n",
       "      <td>RF</td>\n",
       "      <td>0.624418</td>\n",
       "    </tr>\n",
       "    <tr>\n",
       "      <th>2</th>\n",
       "      <td>Adjusted RF</td>\n",
       "      <td>0.663365</td>\n",
       "    </tr>\n",
       "    <tr>\n",
       "      <th>3</th>\n",
       "      <td>BR</td>\n",
       "      <td>0.602642</td>\n",
       "    </tr>\n",
       "    <tr>\n",
       "      <th>4</th>\n",
       "      <td>Adjusted BR</td>\n",
       "      <td>0.590407</td>\n",
       "    </tr>\n",
       "  </tbody>\n",
       "</table>\n",
       "</div>"
      ],
      "text/plain": [
       "    Model Type  Cross-validation score\n",
       "0          MLR           -65113.582334\n",
       "1           RF                0.624418\n",
       "2  Adjusted RF                0.663365\n",
       "3           BR                0.602642\n",
       "4  Adjusted BR                0.590407"
      ]
     },
     "execution_count": 118,
     "metadata": {},
     "output_type": "execute_result"
    }
   ],
   "source": [
    "models_crossvalscores = [\"MLR\", \"RF\", \"Adjusted RF\", \"BR\", \"Adjusted BR\" ]\n",
    "df_scores = pd.DataFrame(models_crossvalscores, columns=[\"Model Type\"])\n",
    "df_scores[\"Cross-validation score\"] = model_scores\n",
    "df_scores"
   ]
  },
  {
   "cell_type": "markdown",
   "id": "6cf545dd-d1f2-40c1-a3cf-706515e9f35a",
   "metadata": {},
   "source": [
    "Now we can visualize both datasets to have a better consideration."
   ]
  },
  {
   "cell_type": "code",
   "execution_count": 122,
   "id": "bf11a5b3-6b57-4368-841d-d1f44ab9f3c9",
   "metadata": {},
   "outputs": [
    {
     "data": {
      "text/plain": [
       "<Figure size 720x288 with 0 Axes>"
      ]
     },
     "execution_count": 122,
     "metadata": {},
     "output_type": "execute_result"
    },
    {
     "data": {
      "text/plain": [
       "[<matplotlib.lines.Line2D at 0x12245b89f40>]"
      ]
     },
     "execution_count": 122,
     "metadata": {},
     "output_type": "execute_result"
    },
    {
     "data": {
      "text/plain": [
       "Text(0.5, 0, 'Models')"
      ]
     },
     "execution_count": 122,
     "metadata": {},
     "output_type": "execute_result"
    },
    {
     "data": {
      "text/plain": [
       "Text(0, 0.5, 'MSE')"
      ]
     },
     "execution_count": 122,
     "metadata": {},
     "output_type": "execute_result"
    },
    {
     "data": {
      "image/png": "[encoded data removed]",
      "text/plain": [
       "<Figure size 720x288 with 1 Axes>"
      ]
     },
     "metadata": {
      "needs_background": "light"
     },
     "output_type": "display_data"
    }
   ],
   "source": [
    "#Plotting the mse outputs\n",
    "plt.figure(figsize = (10,4))\n",
    "plt.plot(df_mse[\"Model Type\"], df_mse[\"MSE\"])\n",
    "plt.xlabel(\"Models\")\n",
    "plt.ylabel(\"MSE\")\n",
    "plt.show()"
   ]
  },
  {
   "cell_type": "code",
   "execution_count": 120,
   "id": "18504f67-0701-4182-a4e9-ddbfd97cf1d1",
   "metadata": {},
   "outputs": [
    {
     "data": {
      "text/plain": [
       "<Figure size 720x288 with 0 Axes>"
      ]
     },
     "execution_count": 120,
     "metadata": {},
     "output_type": "execute_result"
    },
    {
     "data": {
      "text/plain": [
       "[<matplotlib.lines.Line2D at 0x12245ae91f0>]"
      ]
     },
     "execution_count": 120,
     "metadata": {},
     "output_type": "execute_result"
    },
    {
     "data": {
      "text/plain": [
       "Text(0.5, 0, 'Models')"
      ]
     },
     "execution_count": 120,
     "metadata": {},
     "output_type": "execute_result"
    },
    {
     "data": {
      "text/plain": [
       "Text(0, 0.5, 'cross_val_score')"
      ]
     },
     "execution_count": 120,
     "metadata": {},
     "output_type": "execute_result"
    },
    {
     "data": {
      "image/png": "[encoded data removed]",
      "text/plain": [
       "<Figure size 720x288 with 1 Axes>"
      ]
     },
     "metadata": {
      "needs_background": "light"
     },
     "output_type": "display_data"
    }
   ],
   "source": [
    "#Plotting the cross_val_scores outputs\n",
    "plt.figure(figsize = (10,4))\n",
    "plt.plot(df_scores[\"Model Type\"], df_scores[\"Cross-validation score\"])\n",
    "plt.xlabel(\"Models\")\n",
    "plt.ylabel(\"cross_val_score\")\n",
    "plt.show()"
   ]
  },
  {
   "cell_type": "markdown",
   "id": "377f9d3c-2419-408c-945e-0a5789223903",
   "metadata": {},
   "source": [
    "All things considered, the Random Forest model with tuning hyperparameters has a considerably low MSE and a significant R-squared value which assist us to have more precise predictions based on the test dataset. Therefore, the Random Forest Regressor is the optimal model out of three."
   ]
  },
  {
   "attachments": {},
   "cell_type": "markdown",
   "id": "699b13db-9596-4280-b1fe-c3979ab8dad9",
   "metadata": {},
   "source": [
    "### Predictions on test data"
   ]
  },
  {
   "cell_type": "code",
   "execution_count": 139,
   "id": "9040f78f-5cb0-4194-b463-39138b8db63e",
   "metadata": {},
   "outputs": [
    {
     "data": {
      "text/plain": [
       "(3000, 52)"
      ]
     },
     "execution_count": 139,
     "metadata": {},
     "output_type": "execute_result"
    }
   ],
   "source": [
    "#Specify subset\n",
    "test_input = df_test.drop(['ID','name','description','neighborhood_overview','host_name','host_since','host_location','host_about','host_neighbourhood','neighbourhood','neighbourhood_cleansed','first_review','last_review','license'],axis=1)\n",
    "#Subset size\n",
    "test_input.shape"
   ]
  },
  {
   "cell_type": "code",
   "execution_count": 140,
   "id": "21288e71-96e7-43e3-b849-9649d6535536",
   "metadata": {},
   "outputs": [
    {
     "data": {
      "text/plain": [
       "array([ 49.81913358, 174.03116443, 179.30484841, ..., 245.28595734,\n",
       "       219.37817902, 280.38274183])"
      ]
     },
     "execution_count": 140,
     "metadata": {},
     "output_type": "execute_result"
    }
   ],
   "source": [
    "#Predict the corresponding prices\n",
    "submission = tune_forest.predict(test_input)\n",
    "submission"
   ]
  },
  {
   "cell_type": "code",
   "execution_count": 132,
   "id": "e4314e28-11a7-4066-a999-41e93f4d5c68",
   "metadata": {},
   "outputs": [],
   "source": [
    "#Set new column for price in the test set\n",
    "df_test['price'] = submission"
   ]
  },
  {
   "cell_type": "code",
   "execution_count": 149,
   "id": "9a07fcc4-81f8-44f9-85f4-ab71721fb13e",
   "metadata": {},
   "outputs": [],
   "source": [
    "#Convert 2 columns of ID and price to a submission file\n",
    "df_test[['ID','price']].to_csv('submission.csv',index=False)"
   ]
  }
 ],
 "metadata": {
  "kernelspec": {
   "display_name": "base",
   "language": "python",
   "name": "python3"
  },
  "language_info": {
   "codemirror_mode": {
    "name": "ipython",
    "version": 3
   },
   "file_extension": ".py",
   "mimetype": "text/x-python",
   "name": "python",
   "nbconvert_exporter": "python",
   "pygments_lexer": "ipython3",
   "version": "3.9.16"
  }
 },
 "nbformat": 4,
 "nbformat_minor": 5
}
