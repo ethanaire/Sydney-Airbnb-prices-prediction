{
 "cells": [
  {
   "attachments": {},
   "cell_type": "markdown",
   "id": "a6a106c2-f185-492f-87bb-79286c2eacc4",
   "metadata": {},
   "source": [
    "### __Predicting Airbnb Listing Prices in Sydney__"
   ]
  },
  {
   "attachments": {},
   "cell_type": "markdown",
   "id": "b24de689-928d-4991-b337-760c12780e5d",
   "metadata": {},
   "source": [
    "---\n",
    "\n",
    "## Task 4: Visualizing Model Performance\n",
    "\n",
    "After training the most optimal Airbnb price prediction model, it's crucial to analyze how well it performed. This notebook will include:\n",
    "\n",
    "✅ 1. Feature Importance Visualization - Identify which features impact price the most\n",
    "- Bar chart of top 15 most important features\n",
    "- Uses feature_importances_ for tree-based models or coef_ for linear models\n",
    "\n",
    "✅ 2. Residual Analysis - Check where the model makes large errors\n",
    "- Scatter plot of Actual vs. Predicted prices (good predictions should be close to the red diagonal line)\n",
    "- Highlights areas where the model overestimates or underestimates prices\n",
    "\n",
    "✅ 3. Residual Distribution - Visualize accuracy\n",
    "- Histogram of residuals (errors) to check if errors are randomly distributed\n",
    "- A well-performing model should have a distribution centered around zero\n",
    "\n",
    "✅ 4. Model Evaluation Metrics\n",
    "- Mean Absolute Error (MAE) – Average absolute error\n",
    "- Root Mean Squared Error (RMSE) – Heavily penalizes large errors\n",
    "- R² Score – How well the model explains price variations\n",
    "\n",
    "✅ 5. Comparing Multiple Models - Model Comparison\n",
    "- Bar chart of RMSE values for different models\n",
    "- Helps compare the performance of Random Forest, XGBoost, LightGBM, etc."
   ]
  },
  {
   "cell_type": "code",
   "execution_count": null,
   "id": "3d8094cc",
   "metadata": {},
   "outputs": [],
   "source": [
    "# Import libraries \n",
    "import pandas as pd\n",
    "import numpy as np\n",
    "import matplotlib.pyplot as plt\n",
    "import seaborn as sns       \n",
    "import shap\n",
    "import joblib\n",
    "import folium\n",
    "\n",
    "from sklearn.metrics import mean_absolute_error, mean_squared_error, r2_score"
   ]
  },
  {
   "cell_type": "code",
   "execution_count": null,
   "id": "d994f506",
   "metadata": {},
   "outputs": [],
   "source": [
    "# Load model predictions\n",
    "df_results = pd.read_csv(\"results/predictions.csv\")  # Contains actual vs predicted prices\n",
    "df_train = pd.read_csv(\"data/processed/processed_train.csv\")\n",
    "df_test = pd.read_csv(\"data/processed/processed_test.csv\")"
   ]
  },
  {
   "cell_type": "code",
   "execution_count": null,
   "id": "0b074eb6",
   "metadata": {},
   "outputs": [],
   "source": [
    "# Load trained model\n",
    "model = joblib.load(\"results/best_model.pkl\")"
   ]
  },
  {
   "cell_type": "markdown",
   "id": "4165b417",
   "metadata": {},
   "source": [
    "### 1. Feature Importance Visualization"
   ]
  },
  {
   "cell_type": "code",
   "execution_count": null,
   "id": "568eed47",
   "metadata": {},
   "outputs": [],
   "source": [
    "feature_names = df_train.drop(columns=[\"price\"]).columns  # Features used in training"
   ]
  },
  {
   "cell_type": "code",
   "execution_count": null,
   "id": "8751b2a1",
   "metadata": {},
   "outputs": [],
   "source": [
    "# Retrieve feature importance results\n",
    "if hasattr(model, \"feature_importances_\"):  # For tree-based models\n",
    "    feature_importance = model.feature_importances_\n",
    "elif hasattr(model, \"coef_\"):  # For linear models\n",
    "    feature_importance = np.abs(model.coef_)\n",
    "else:\n",
    "    feature_importance = np.zeros(len(feature_names))\n",
    "\n",
    "feature_importance_df = pd.DataFrame({\"Feature\": feature_names, \"Importance\": feature_importance})\n",
    "feature_importance_df = feature_importance_df.sort_values(by=\"Importance\", ascending=False)"
   ]
  },
  {
   "cell_type": "code",
   "execution_count": null,
   "id": "b05c367d",
   "metadata": {},
   "outputs": [],
   "source": [
    "# Visualize the most important features\n",
    "plt.figure(figsize=(12, 6))\n",
    "sns.barplot(data=feature_importance_df.head(15), x=\"Importance\", y=\"Feature\", palette=\"viridis\")\n",
    "plt.title(\"Top 15 Feature Importances\")\n",
    "plt.xlabel(\"Importance\")\n",
    "plt.ylabel(\"Feature\")\n",
    "plt.show()"
   ]
  },
  {
   "cell_type": "markdown",
   "id": "4c677a02",
   "metadata": {},
   "source": [
    "### 2. Residual Analysis (Actual vs. Predicted Prices)"
   ]
  },
  {
   "cell_type": "code",
   "execution_count": null,
   "id": "9304fb87",
   "metadata": {},
   "outputs": [],
   "source": [
    "# Create a DataFrame to store Residuals\n",
    "df_results[\"Residual\"] = df_results[\"Actual\"] - df_results[\"Predicted\"]"
   ]
  },
  {
   "cell_type": "code",
   "execution_count": null,
   "id": "c63a67ee",
   "metadata": {},
   "outputs": [],
   "source": [
    "# Visualize residual analysis results\n",
    "plt.figure(figsize=(8, 6))\n",
    "sns.scatterplot(data=df_results, x=\"Actual\", y=\"Predicted\", alpha=0.5)\n",
    "plt.plot([df_results[\"Actual\"].min(), df_results[\"Actual\"].max()], \n",
    "         [df_results[\"Actual\"].min(), df_results[\"Actual\"].max()], color=\"red\", linestyle=\"dashed\")\n",
    "plt.xlabel(\"Actual Price\")\n",
    "plt.ylabel(\"Predicted Price\")\n",
    "plt.title(\"Actual vs. Predicted Prices\")\n",
    "plt.show()"
   ]
  },
  {
   "cell_type": "markdown",
   "id": "d56a5ca3",
   "metadata": {},
   "source": [
    "### 3. Residual Distribution"
   ]
  },
  {
   "cell_type": "code",
   "execution_count": null,
   "id": "0797ae64",
   "metadata": {},
   "outputs": [],
   "source": [
    "# Visualize residual distribution \n",
    "plt.figure(figsize=(8, 5))\n",
    "sns.histplot(df_results[\"Residual\"], bins=50, kde=True, color=\"blue\")\n",
    "plt.axvline(0, color=\"red\", linestyle=\"dashed\")\n",
    "plt.xlabel(\"Residual (Error)\")\n",
    "plt.ylabel(\"Count\")\n",
    "plt.title(\"Distribution of Residuals\")\n",
    "plt.show()"
   ]
  },
  {
   "cell_type": "markdown",
   "id": "27a06fcd",
   "metadata": {},
   "source": [
    "### 4. Model Evaluation Metrics"
   ]
  },
  {
   "cell_type": "code",
   "execution_count": null,
   "id": "c6cd9414",
   "metadata": {},
   "outputs": [],
   "source": [
    "# Retrieve evaluation metrics \n",
    "mae = mean_absolute_error(df_results[\"Actual\"], df_results[\"Predicted\"])\n",
    "rmse = np.sqrt(mean_squared_error(df_results[\"Actual\"], df_results[\"Predicted\"]))\n",
    "r2 = r2_score(df_results[\"Actual\"], df_results[\"Predicted\"])"
   ]
  },
  {
   "cell_type": "code",
   "execution_count": null,
   "id": "f2b8ba07",
   "metadata": {},
   "outputs": [],
   "source": [
    "# Print results of models' evaluation metrics \n",
    "print(f\"📌 Mean Absolute Error (MAE): {mae:.2f}\")   \n",
    "print(f\"📌 Root Mean Squared Error (RMSE): {rmse:.2f}\")\n",
    "print(f\"📌 R² Score: {r2:.3f}\")"
   ]
  },
  {
   "cell_type": "markdown",
   "id": "d162bc98",
   "metadata": {},
   "source": [
    "### 5. Comparing Multiple Models"
   ]
  },
  {
   "cell_type": "code",
   "execution_count": null,
   "id": "2b547887",
   "metadata": {},
   "outputs": [],
   "source": [
    "df_model_results = pd.read_csv(\"outputs/model_comparison.csv\")  # Stores scores for different models"
   ]
  },
  {
   "cell_type": "code",
   "execution_count": null,
   "id": "2969561c",
   "metadata": {},
   "outputs": [],
   "source": [
    "# Visualize multiple models' performance results\n",
    "plt.figure(figsize=(8, 5))\n",
    "sns.barplot(data=df_model_results, x=\"Model\", y=\"RMSE\", palette=\"coolwarm\")\n",
    "plt.xlabel(\"Model\")\n",
    "plt.ylabel(\"RMSE (Lower is Better)\")\n",
    "plt.title(\"Comparison of Different Models\")\n",
    "plt.xticks(rotation=45)\n",
    "plt.show()"
   ]
  }
 ],
 "metadata": {
  "kernelspec": {
   "display_name": "base",
   "language": "python",
   "name": "python3"
  },
  "language_info": {
   "codemirror_mode": {
    "name": "ipython",
    "version": 3
   },
   "file_extension": ".py",
   "mimetype": "text/x-python",
   "name": "python",
   "nbconvert_exporter": "python",
   "pygments_lexer": "ipython3",
   "version": "3.9.16"
  }
 },
 "nbformat": 4,
 "nbformat_minor": 5
}
