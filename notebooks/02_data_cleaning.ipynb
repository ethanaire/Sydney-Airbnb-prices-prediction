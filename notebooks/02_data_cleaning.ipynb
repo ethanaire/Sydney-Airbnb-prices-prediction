{
 "cells": [
  {
   "attachments": {},
   "cell_type": "markdown",
   "id": "a6a106c2-f185-492f-87bb-79286c2eacc4",
   "metadata": {},
   "source": [
    "# __Predicting Airbnb Listing Prices in Sydney__"
   ]
  },
  {
   "attachments": {},
   "cell_type": "markdown",
   "id": "ad30df24-b18b-4f61-975f-ceebe2e2c3ab",
   "metadata": {},
   "source": [
    "---\n",
    "\n",
    "## Task 2: Data Cleaning, Missing Observations and Feature Engineering\n",
    "- This task includes a set of instructions/ steps listed below along with comprehensive explanations. \n",
    "\n",
    "\n"
   ]
  },
  {
   "cell_type": "code",
   "execution_count": 2,
   "id": "142a07cd",
   "metadata": {},
   "outputs": [],
   "source": [
    "# Import libraries \n",
    "import pandas as pd\n",
    "import numpy as np\n",
    "import seaborn as sns"
   ]
  },
  {
   "cell_type": "code",
   "execution_count": 3,
   "id": "e85b7c09",
   "metadata": {},
   "outputs": [],
   "source": [
    "# Set display options for better readability\n",
    "pd.set_option('display.max_columns', None)\n",
    "pd.set_option('display.max_rows', 50)\n",
    "\n",
    "# Configure seaborn aesthetics\n",
    "sns.set(style=\"whitegrid\", palette=\"muted\", font_scale=1.2)"
   ]
  },
  {
   "cell_type": "code",
   "execution_count": null,
   "id": "03ad1015",
   "metadata": {},
   "outputs": [],
   "source": [
    "# Load datasets\n",
    "df_train = pd.read_csv(r\"C:\\Users\\haiho\\GITHUB\\Sydney-Airbnb-prices-prediction\\data\\raw\\train.csv\")\n",
    "df_test = pd.read_csv(r\"C:\\Users\\haiho\\GITHUB\\Sydney-Airbnb-prices-prediction\\data\\raw\\test.csv\")"
   ]
  },
  {
   "attachments": {},
   "cell_type": "markdown",
   "id": "01f4ec3d-4936-4428-a204-04f133210a3d",
   "metadata": {},
   "source": [
    "### **Step 1**: Clean **all** numerical features and the target variable `price` so that they can be used in training algorithms."
   ]
  },
  {
   "cell_type": "markdown",
   "id": "0c003aa0-cc94-495f-8a61-e15f4ab84c8a",
   "metadata": {},
   "source": [
    "Even though the descriptive statistics summary provided by the initial data analysis includes 34 features, we can identify other 3 numerical variables are in the format of string and should be corrected for further analyis. `host_response_rate` and `host_acceptance_rate` are the two features which contain both numerical values and text on each entry, specfically number with percentage symbol (%). Since the intial data types of these two columns are string, we need to convert them to float after extracting the unwanted character. "
   ]
  },
  {
   "cell_type": "code",
   "execution_count": 5,
   "id": "330ae812",
   "metadata": {},
   "outputs": [
    {
     "name": "stdout",
     "output_type": "stream",
     "text": [
      "<class 'pandas.core.series.Series'>\n",
      "<class 'pandas.core.series.Series'>\n",
      "<class 'pandas.core.series.Series'>\n",
      "<class 'pandas.core.series.Series'>\n"
     ]
    }
   ],
   "source": [
    "# List of data frames and columns to check\n",
    "dfs = [df_train, df_test]\n",
    "columns = ['host_response_rate', 'host_acceptance_rate']\n",
    "\n",
    "# Loop through data frames and columns\n",
    "for df in dfs:\n",
    "    for col in columns:\n",
    "        print(type(df[col]))"
   ]
  },
  {
   "cell_type": "code",
   "execution_count": 6,
   "id": "fe3b87d9",
   "metadata": {},
   "outputs": [],
   "source": [
    "# Remove unwanted characters \n",
    "for df in dfs:\n",
    "    for col in columns:\n",
    "        df[col] = df[col].str.replace('%', '')"
   ]
  },
  {
   "cell_type": "code",
   "execution_count": 7,
   "id": "4eee1b43",
   "metadata": {},
   "outputs": [],
   "source": [
    "# Transform data columns into float type\n",
    "for df in dfs:\n",
    "    for col in columns:\n",
    "        df[col] = df[col].astype(float)"
   ]
  },
  {
   "cell_type": "markdown",
   "id": "e7acd526-05dd-4ff7-afa9-585dc11e76bc",
   "metadata": {},
   "source": [
    "Besides, `price` as the target variable of the training dataset is also not denoted as a floating point attribute due to the same initial data type. By repeating the procedure, we can convert price to the accurate data type."
   ]
  },
  {
   "cell_type": "code",
   "execution_count": 8,
   "id": "9824fd65-ad46-48a8-b00e-68d1f18d3bc3",
   "metadata": {},
   "outputs": [
    {
     "name": "stdout",
     "output_type": "stream",
     "text": [
      "<class 'pandas.core.series.Series'>\n"
     ]
    }
   ],
   "source": [
    "# Examine the current data type\n",
    "print(type(df_train['price']))"
   ]
  },
  {
   "cell_type": "markdown",
   "id": "c7bf3477-839f-4f9f-a174-517660a24253",
   "metadata": {},
   "source": [
    "In the form of string, we can spot the shortest and longest values to determine any unexpected characters."
   ]
  },
  {
   "cell_type": "code",
   "execution_count": 9,
   "id": "e1f19214-7eec-45cd-8e6c-9c071f925b2b",
   "metadata": {},
   "outputs": [
    {
     "name": "stdout",
     "output_type": "stream",
     "text": [
      "Min value: $82.00\n",
      "Max value: $2,746.00\n"
     ]
    }
   ],
   "source": [
    "print(\"Min value:\", min(df_train['price'], key=len))\n",
    "print(\"Max value:\", max(df_train['price'], key=len))"
   ]
  },
  {
   "cell_type": "markdown",
   "id": "d06bbd98",
   "metadata": {},
   "source": [
    "We only want to keep the numeric values and remove the unwanted characters before changing to float."
   ]
  },
  {
   "cell_type": "code",
   "execution_count": 12,
   "id": "06bacdef-62e4-41f6-9bd8-36e3ba29b4ea",
   "metadata": {},
   "outputs": [],
   "source": [
    "# Remove unwanted characters \n",
    "df_train['price'] = df_train['price'].str.replace('$', '').str.replace(',', '')"
   ]
  },
  {
   "cell_type": "code",
   "execution_count": 13,
   "id": "5569775d-0fe9-464b-a55a-cf3969d73bbf",
   "metadata": {},
   "outputs": [],
   "source": [
    "# Transform price into float type\n",
    "df_train['price'] = df_train['price'].astype(float)"
   ]
  },
  {
   "attachments": {},
   "cell_type": "markdown",
   "id": "773f1bb1",
   "metadata": {},
   "source": [
    "### **Step 2:** Create new features from existing features which contain multiple items of information.  "
   ]
  },
  {
   "cell_type": "markdown",
   "id": "b8b110dd-8421-419e-89de-23f3ba84f816",
   "metadata": {},
   "source": [
    "There exits features that contains multiple intems in each entry of both train and test sets. Specfically, `host_verifications` contains `email`,  `phone`, `reviews`, `jumio`, etc.\n",
    "\n",
    "We firstly look through the top 2 entries of the `host_verifications` feature."
   ]
  },
  {
   "cell_type": "code",
   "execution_count": null,
   "id": "c0d210de",
   "metadata": {},
   "outputs": [],
   "source": [
    "# Examine first 2 values of host_verifications column\n",
    "df_train['host_verifications'].head(2)"
   ]
  },
  {
   "cell_type": "markdown",
   "id": "bf26f6db-72f4-49db-863b-e90b428cba6b",
   "metadata": {},
   "source": [
    "For `host_verifications`, the total numbers of 4 new features can be created as `email`, `phone`, `reviews`, `jumio`:"
   ]
  },
  {
   "cell_type": "code",
   "execution_count": null,
   "id": "31517d57",
   "metadata": {},
   "outputs": [],
   "source": [
    "# Define main verification types\n",
    "verification_types = ['email', 'phone', 'reviews', 'jumio']"
   ]
  },
  {
   "cell_type": "code",
   "execution_count": 19,
   "id": "471141b3-ba2a-445f-b6a8-9ecee0ced371",
   "metadata": {},
   "outputs": [
    {
     "name": "stdout",
     "output_type": "stream",
     "text": [
      "Value counts of email verifications : 6495\n",
      "Value counts of phone verifications : 6995\n",
      "Value counts of reviews verifications : 4429\n",
      "Value counts of jumio verifications : 4795\n"
     ]
    }
   ],
   "source": [
    "# Calculate value counts of main verification types\n",
    "for verification in verification_types:\n",
    "    count = 0\n",
    "    for row in df_train.itertuples(index = True, name ='Pandas'):\n",
    "        if verification in getattr(row, 'host_verifications'):\n",
    "            count+=1\n",
    "    print(f'Value counts of {verification} verification: {count}')      "
   ]
  },
  {
   "cell_type": "markdown",
   "id": "1e9c457e",
   "metadata": {},
   "source": [
    "With the idea of consolidating the verification functions into a single function that can handle different verification types, new features are created to indicate whether an Airbnb has `email` or `phone` or `reviews` or `jumio`."
   ]
  },
  {
   "cell_type": "code",
   "execution_count": null,
   "id": "b0fff5d4",
   "metadata": {},
   "outputs": [],
   "source": [
    "# Identify different verification types\n",
    "def verification_check(row, verification_type):\n",
    "    return 1 if verification_type in row['host_verifications'] else 0"
   ]
  },
  {
   "cell_type": "code",
   "execution_count": null,
   "id": "b5c311ba",
   "metadata": {},
   "outputs": [],
   "source": [
    "# Apply to the train and test sets using lambda functions\n",
    "for verification in verification_types:\n",
    "    df_train[verification] = df_train.apply(lambda row: verification_check(row, verification), axis=1)\n",
    "    df_test[verification] = df_test.apply(lambda row: verification_check(row, verification), axis=1)"
   ]
  },
  {
   "cell_type": "code",
   "execution_count": 23,
   "id": "a1bcffae-3b41-40bd-80ae-31c83b659c77",
   "metadata": {},
   "outputs": [],
   "source": [
    "# Drop the original column\n",
    "df_train.drop(columns='host_verifications', inplace=True)\n",
    "df_test.drop(columns='host_verifications', inplace=True)"
   ]
  },
  {
   "cell_type": "markdown",
   "id": "940c6573",
   "metadata": {},
   "source": [
    "We also identify that the `amenities` feature has multiple items of information which also needs to be separated."
   ]
  },
  {
   "cell_type": "code",
   "execution_count": 24,
   "id": "97ad3d7c-8ba7-43d4-b43d-69d1d65efada",
   "metadata": {},
   "outputs": [
    {
     "data": {
      "text/plain": [
       "0    [\"Hot water\", \"Coffee maker\", \"Heating\", \"Hair...\n",
       "1    [\"Hot water\", \"Coffee maker\", \"Long term stays...\n",
       "Name: amenities, dtype: object"
      ]
     },
     "execution_count": 24,
     "metadata": {},
     "output_type": "execute_result"
    }
   ],
   "source": [
    "# Examine first 2 values of amenities column\n",
    "df_train['amenities'].head(2)"
   ]
  },
  {
   "cell_type": "markdown",
   "id": "d8dbb7a0-b021-4dd5-89d6-097456d116df",
   "metadata": {},
   "source": [
    "By finding the longest entry of `amenities` and the top 4 amenities of all Airbnb entries, we can determine the 4 new features to generate."
   ]
  },
  {
   "cell_type": "code",
   "execution_count": 25,
   "id": "225cb74d",
   "metadata": {},
   "outputs": [
    {
     "data": {
      "text/plain": [
       "'[\"Clothing storage: wardrobe, walk-in closet, and dresser\", \"Hot water\", \"Coffee maker\", \"Free dryer \\\\u2013 In building\", \"Toaster\", \"Heating\", \"Long term stays allowed\", \"Extra pillows and blankets\", \"Dining table\", \"Private fenced garden or backyard\", \"Bikes\", \"Hair dryer\", \"Conditioner\", \"Drying rack for clothing\", \"Babysitter recommendations\", \"Laundromat nearby\", \"Fire pit\", \"Bathtub\", \"Oven\", \"Private entrance\", \"Lockbox\", \"Beach essentials\", \"Dedicated workspace: monitor, desk, table, and office chair\", \"Bread maker\", \"Ceiling fan\", \"Microwave\", \"Iron\", \"Free washer \\\\u2013 In building\", \"68\\\\\" HDTV with Amazon Prime Video, Apple TV, Netflix, standard cable\", \"Refrigerator\", \"Outdoor shower\", \"Board games\", \"Fire extinguisher\", \"Hot water kettle\", \"Piano\", \"Samsung Bar Bluetooth sound system\", \"Children\\\\u2019s dinnerware\", \"Stove\", \"Portable fans\", \"Ethernet connection\", \"Bed linens\", \"Game console\", \"Cable TV\", \"Hangers\", \"Pack \\\\u2019n play/Travel crib\", \"BBQ grill\", \"Body soap\", \"First aid kit\", \"Smoke alarm\", \"Room-darkening shades\", \"Luggage dropoff allowed\", \"Private patio or balcony\", \"Essentials\", \"Cooking basics\", \"Barbecue utensils\", \"Baking sheet\", \"Outdoor furniture\", \"Outdoor dining area\", \"Private outdoor saltwater pool\", \"Wifi\", \"Free street parking\", \"Dishwasher\", \"Freezer\", \"Nespresso machine\", \"Dishes and silverware\", \"Wine glasses\", \"Cleaning products\", \"Free parking on premises\", \"Shampoo\", \"Shower gel\", \"Children\\\\u2019s books and toys\", \"Kitchen\", \"Baby safety gates\", \"High chair\", \"Rice maker\", \"Trash compactor\", \"Mosquito net\"]'"
      ]
     },
     "execution_count": 25,
     "metadata": {},
     "output_type": "execute_result"
    }
   ],
   "source": [
    "longest_amen = max(df_train['amenities'], key=len)\n",
    "longest_amen"
   ]
  },
  {
   "cell_type": "code",
   "execution_count": 26,
   "id": "6a0c8871",
   "metadata": {},
   "outputs": [
    {
     "data": {
      "text/plain": [
       "[967]"
      ]
     },
     "execution_count": 26,
     "metadata": {},
     "output_type": "execute_result"
    }
   ],
   "source": [
    "# Find the index the longest amenities entry\n",
    "df_train.index[df_train['amenities']==longest_amen].tolist()"
   ]
  },
  {
   "cell_type": "markdown",
   "id": "8aab95ba",
   "metadata": {},
   "source": [
    "As we found the existing longest amenity entry in the dataframe, we can design a loop to count occurences of each amentity and apply the same algorithm to create 4 new features of the most popular amenity among all Airbnb."
   ]
  },
  {
   "cell_type": "code",
   "execution_count": null,
   "id": "9c820faa",
   "metadata": {},
   "outputs": [],
   "source": [
    "amenity_counts = {}\n",
    "\n",
    "# Count occurrences of each amenity\n",
    "for amenity in longest_amen:\n",
    "    count = 0\n",
    "    for row in df_train.itertuples(index=True, name='Pandas'):\n",
    "        if amenity in getattr(row, 'amenities'):\n",
    "            count += 1\n",
    "    amenity_counts[amenity] = count\n",
    "\n",
    "# Sort the dictionary by count in descending order\n",
    "sorted_amenities = sorted(amenity_counts.items(), key=lambda x: x[1], reverse=True)\n",
    "\n",
    "# Print the top 10 amenities\n",
    "for amenity, count in sorted_amenities[:10]:\n",
    "    print(f'Value counts of {amenity} amenity: {count}')\n"
   ]
  },
  {
   "cell_type": "code",
   "execution_count": 27,
   "id": "2815f8ed",
   "metadata": {},
   "outputs": [
    {
     "name": "stdout",
     "output_type": "stream",
     "text": [
      "Value counts of Clothing storage: wardrobe, walk-in closet, and dresser amenity : 3\n",
      "Value counts of Hot water amenity : 5506\n",
      "Value counts of Coffee maker amenity : 2713\n",
      "Value counts of Free dryer \\u2013 In building amenity : 44\n",
      "Value counts of Toaster amenity : 1229\n",
      "Value counts of Heating amenity : 5067\n",
      "Value counts of Long term stays allowed amenity : 6387\n",
      "Value counts of Extra pillows and blankets amenity : 2957\n",
      "Value counts of Dining table amenity : 1148\n",
      "Value counts of Private fenced garden or backyard amenity : 357\n",
      "Value counts of Bikes amenity : 41\n",
      "Value counts of Hair dryer amenity : 5697\n",
      "Value counts of Conditioner amenity : 997\n",
      "Value counts of Drying rack for clothing amenity : 855\n",
      "Value counts of Babysitter recommendations amenity : 271\n",
      "Value counts of Laundromat nearby amenity : 608\n",
      "Value counts of Fire pit amenity : 140\n",
      "Value counts of Bathtub amenity : 1285\n",
      "Value counts of Oven amenity : 3640\n",
      "Value counts of Private entrance amenity : 2912\n",
      "Value counts of Lockbox amenity : 2187\n",
      "Value counts of Beach essentials amenity : 570\n",
      "Value counts of Dedicated workspace: monitor, desk, table, and office chair amenity : 1\n",
      "Value counts of Bread maker amenity : 81\n",
      "Value counts of Ceiling fan amenity : 540\n",
      "Value counts of Microwave amenity : 4622\n",
      "Value counts of Iron amenity : 6002\n",
      "Value counts of Free washer \\u2013 In building amenity : 69\n",
      "Value counts of 68\\ HDTV with Amazon Prime Video, Apple TV, Netflix, standard cable amenity : 0\n",
      "Value counts of Refrigerator amenity : 4655\n",
      "Value counts of Outdoor shower amenity : 135\n",
      "Value counts of Board games amenity : 294\n",
      "Value counts of Fire extinguisher amenity : 2999\n",
      "Value counts of Hot water kettle amenity : 1373\n",
      "Value counts of Piano amenity : 66\n",
      "Value counts of Samsung Bar Bluetooth sound system amenity : 1\n",
      "Value counts of Children\\u2019s dinnerware amenity : 461\n",
      "Value counts of Stove amenity : 3844\n",
      "Value counts of Portable fans amenity : 683\n",
      "Value counts of Ethernet connection amenity : 707\n",
      "Value counts of Bed linens amenity : 4120\n",
      "Value counts of Game console amenity : 146\n",
      "Value counts of Cable TV amenity : 1128\n",
      "Value counts of Hangers amenity : 6046\n",
      "Value counts of Pack \\u2019n play/Travel crib amenity : 694\n",
      "Value counts of BBQ grill amenity : 1510\n",
      "Value counts of Body soap amenity : 1093\n",
      "Value counts of First aid kit amenity : 2656\n",
      "Value counts of Smoke alarm amenity : 6553\n",
      "Value counts of Room-darkening shades amenity : 1232\n",
      "Value counts of Luggage dropoff allowed amenity : 2000\n",
      "Value counts of Private patio or balcony amenity : 1085\n",
      "Value counts of Essentials amenity : 6542\n",
      "Value counts of Cooking basics amenity : 4575\n",
      "Value counts of Barbecue utensils amenity : 665\n",
      "Value counts of Baking sheet amenity : 565\n",
      "Value counts of Outdoor furniture amenity : 1062\n",
      "Value counts of Outdoor dining area amenity : 751\n",
      "Value counts of Private outdoor saltwater pool amenity : 5\n",
      "Value counts of Wifi amenity : 6592\n",
      "Value counts of Free street parking amenity : 3396\n",
      "Value counts of Dishwasher amenity : 2993\n",
      "Value counts of Freezer amenity : 1187\n",
      "Value counts of Nespresso machine amenity : 370\n",
      "Value counts of Dishes and silverware amenity : 4989\n",
      "Value counts of Wine glasses amenity : 1212\n",
      "Value counts of Cleaning products amenity : 1118\n",
      "Value counts of Free parking on premises amenity : 3138\n",
      "Value counts of Shampoo amenity : 5285\n",
      "Value counts of Shower gel amenity : 1755\n",
      "Value counts of Children\\u2019s books and toys amenity : 766\n",
      "Value counts of Kitchen amenity : 6312\n",
      "Value counts of Baby safety gates amenity : 196\n",
      "Value counts of High chair amenity : 868\n",
      "Value counts of Rice maker amenity : 339\n",
      "Value counts of Trash compactor amenity : 35\n",
      "Value counts of Mosquito net amenity : 84\n"
     ]
    }
   ],
   "source": [
    "# # Count occurrences of each amenity\n",
    "# for i in longest_amen:\n",
    "#     count = 0\n",
    "#     for row in df_train.itertuples(index = True, name ='Pandas'):\n",
    "#         if i in getattr(row, 'amenities'):\n",
    "#             count+=1\n",
    "#     print('Value counts of',i,'amenity :',count)   "
   ]
  },
  {
   "cell_type": "markdown",
   "id": "0bf21fd8",
   "metadata": {},
   "source": [
    "Generally, the top 4 amenities to be recorded are: 'Long term stays allowed', 'Wifi', 'Essentials', 'Smoke alarm'. By apply the same function structure of creating verifications, 4 new amenity features can be added."
   ]
  },
  {
   "cell_type": "code",
   "execution_count": null,
   "id": "f80808ad",
   "metadata": {},
   "outputs": [],
   "source": [
    "# Define main verification types\n",
    "amenity_types = ['Long term stays allowed', 'Wifi', 'Essentials', 'Smoke alarm']"
   ]
  },
  {
   "cell_type": "code",
   "execution_count": null,
   "id": "9fb0a820",
   "metadata": {},
   "outputs": [],
   "source": [
    "# Identify different verification types\n",
    "def amenity_check(row, amenity_type):\n",
    "    return 1 if amenity_type in row['amenities'] else 0"
   ]
  },
  {
   "cell_type": "code",
   "execution_count": null,
   "id": "5ee1df22",
   "metadata": {},
   "outputs": [],
   "source": [
    "# Apply to the train and test sets using lambda functions\n",
    "for amenity in amenity_types:\n",
    "    df_train[amenity] = df_train.apply(lambda row: amenity_check(row, amenity), axis=1)\n",
    "    df_test[amenity] = df_test.apply(lambda row: amenity_check(row, amenity), axis=1)"
   ]
  },
  {
   "cell_type": "code",
   "execution_count": 31,
   "id": "81e960c6-504d-4bf7-8bae-21028eb7f6bf",
   "metadata": {},
   "outputs": [],
   "source": [
    "# Drop the original columns\n",
    "df_train.drop(columns='amenities', inplace=True)\n",
    "df_test.drop(columns='amenities', inplace=True)"
   ]
  },
  {
   "cell_type": "code",
   "execution_count": 28,
   "id": "0d9bac40",
   "metadata": {},
   "outputs": [],
   "source": [
    "# #for Long term stays allowed amenity \n",
    "# def longterm_amenity(row):\n",
    "#     for i in range(len(row)):\n",
    "#         if 'Long term stays allowed' in row['amenities']:\n",
    "#             return 1 \n",
    "#         else: \n",
    "#             return 0\n",
    "\n",
    "# #for Wifi amenity \n",
    "# def wifi_amenity(row):\n",
    "#     for i in range(len(row)):\n",
    "#         if 'Wifi' in row['amenities']:\n",
    "#             return 1 \n",
    "#         else: \n",
    "#             return 0\n",
    "\n",
    "# #for Essentials amenity \n",
    "# def essentials_amenity(row):\n",
    "#     for i in range(len(row)):\n",
    "#         if 'Essentials' in row['amenities']:\n",
    "#             return 1 \n",
    "#         else: \n",
    "#             return 0\n",
    "\n",
    "# #for Smoke alarm amenity \n",
    "# def smokealarm_amenity(row):\n",
    "#     for i in range(len(row)):\n",
    "#         if 'Smoke alarm' in row['amenities']:\n",
    "#             return 1 \n",
    "#         else: \n",
    "#             return 0"
   ]
  },
  {
   "cell_type": "code",
   "execution_count": 29,
   "id": "24b35697",
   "metadata": {},
   "outputs": [],
   "source": [
    "# #apply to the train set\n",
    "# df_train['Long term stays allowed'] = df_train.apply(longterm_amenity, axis=1)\n",
    "# df_train['Wifi'] = df_train.apply(wifi_amenity, axis=1)\n",
    "# df_train['Essentials'] = df_train.apply(essentials_amenity, axis=1)\n",
    "# df_train['Smoke alarm'] = df_train.apply(smokealarm_amenity, axis=1)"
   ]
  },
  {
   "cell_type": "code",
   "execution_count": 30,
   "id": "8bf49f1b-1e1e-4382-96dd-bbab57352e82",
   "metadata": {},
   "outputs": [],
   "source": [
    "# #apply to the test set\n",
    "# df_test['Long term stays allowed'] = df_test.apply(longterm_amenity, axis=1)\n",
    "# df_test['Wifi'] = df_test.apply(wifi_amenity, axis=1)\n",
    "# df_test['Essentials'] = df_test.apply(essentials_amenity, axis=1)\n",
    "# df_test['Smoke alarm'] = df_test.apply(smokealarm_amenity, axis=1)"
   ]
  },
  {
   "attachments": {},
   "cell_type": "markdown",
   "id": "b0d01c4d-1412-4e51-8f80-7040f536b1c7",
   "metadata": {},
   "source": [
    "### **Step 3**: Impute missing values for all features in both training and test datasets.   "
   ]
  },
  {
   "cell_type": "markdown",
   "id": "922861a3-b780-4dae-9a4e-447ddf1a0111",
   "metadata": {},
   "source": [
    "**For the training dataset:**"
   ]
  },
  {
   "cell_type": "code",
   "execution_count": null,
   "id": "4b6b55e8-6110-44b0-80f3-fb35e0589a9f",
   "metadata": {},
   "outputs": [],
   "source": [
    "# Examine the shape of the train set\n",
    "df_train.shape"
   ]
  },
  {
   "cell_type": "code",
   "execution_count": 33,
   "id": "da8c023d-66bb-4453-9b48-27f98d0c49da",
   "metadata": {},
   "outputs": [
    {
     "data": {
      "text/plain": [
       "Index(['ID', 'name', 'description', 'neighborhood_overview', 'host_name',\n",
       "       'host_since', 'host_location', 'host_about', 'host_response_time',\n",
       "       'host_response_rate', 'host_acceptance_rate', 'host_is_superhost',\n",
       "       'host_neighbourhood', 'host_listings_count', 'host_has_profile_pic',\n",
       "       'host_identity_verified', 'neighbourhood', 'neighbourhood_cleansed',\n",
       "       'latitude', 'longitude', 'property_type', 'room_type', 'accommodates',\n",
       "       'bathrooms', 'bedrooms', 'beds', 'minimum_nights', 'maximum_nights',\n",
       "       'minimum_minimum_nights', 'maximum_minimum_nights',\n",
       "       'minimum_maximum_nights', 'maximum_maximum_nights',\n",
       "       'minimum_nights_avg_ntm', 'maximum_nights_avg_ntm', 'has_availability',\n",
       "       'availability_30', 'availability_60', 'availability_90',\n",
       "       'availability_365', 'number_of_reviews', 'number_of_reviews_ltm',\n",
       "       'number_of_reviews_l30d', 'first_review', 'last_review',\n",
       "       'review_scores_rating', 'review_scores_accuracy',\n",
       "       'review_scores_cleanliness', 'review_scores_checkin',\n",
       "       'review_scores_communication', 'review_scores_location',\n",
       "       'review_scores_value', 'license', 'instant_bookable',\n",
       "       'calculated_host_listings_count',\n",
       "       'calculated_host_listings_count_entire_homes',\n",
       "       'calculated_host_listings_count_private_rooms',\n",
       "       'calculated_host_listings_count_shared_rooms', 'reviews_per_month',\n",
       "       'price', 'email', 'phone', 'reviews', 'jumio',\n",
       "       'Long term stays allowed', 'Wifi', 'Essentials', 'Smoke alarm'],\n",
       "      dtype='object')"
      ]
     },
     "execution_count": 33,
     "metadata": {},
     "output_type": "execute_result"
    }
   ],
   "source": [
    "# List all columns of the train set\n",
    "df_train.columns"
   ]
  },
  {
   "cell_type": "markdown",
   "id": "f23549c8-a9ad-400d-99a5-11acba3838ba",
   "metadata": {},
   "source": [
    "Due to specific characteristics of each feature including range, type, etc; we must specifically design different imputing strategies to suit nature of each column. \n",
    "\n",
    "Generally, while we can fill all misisng text variables with **'unknown'** value, numerical variables' missing values can be imputed with their **mode** or **mean**. \n",
    "\n",
    "First, we start imputing text-based columns:"
   ]
  },
  {
   "cell_type": "code",
   "execution_count": 34,
   "id": "0ff4007c-9025-4356-b96d-273c7f33ea3d",
   "metadata": {},
   "outputs": [],
   "source": [
    "# List all text_based columns\n",
    "text_cols = ['name', 'description', 'neighborhood_overview', 'host_about', 'neighbourhood_cleansed', 'license']"
   ]
  },
  {
   "cell_type": "code",
   "execution_count": 35,
   "id": "f26116be-d9ba-45f8-aeb1-17062ecab44b",
   "metadata": {},
   "outputs": [],
   "source": [
    "# Fill text_based columns with 'unknown'\n",
    "df_train[text_cols] = df_train[text_cols].fillna(value='unknonwn')"
   ]
  },
  {
   "cell_type": "markdown",
   "id": "7645dafc-a0d1-4d45-bac2-d2e56509e258",
   "metadata": {},
   "source": [
    "Continuing with the remaining numeric features, there are 2 popular ways to fill missing values: mode and mean.\n",
    "\n",
    "By carefully evaluating the nature of each numeric feature, we can split them into 2 separate lists for precise imputing purposes."
   ]
  },
  {
   "cell_type": "code",
   "execution_count": 36,
   "id": "641c4135-7900-479b-a2fc-58238022987a",
   "metadata": {},
   "outputs": [],
   "source": [
    "# Define all numeric cols to fill with mode values\n",
    "mode_fill_cols = ['host_location','host_response_time', 'property_type', 'room_type','bathrooms']"
   ]
  },
  {
   "cell_type": "code",
   "execution_count": 37,
   "id": "40806608-5a0b-4e4f-9492-7a1e5e02a6a5",
   "metadata": {},
   "outputs": [],
   "source": [
    "# Fill mode values with listed columns\n",
    "modes = df_train[mode_fill_cols].mode()\n",
    "df_train[mode_fill_cols] = df_train[mode_fill_cols].fillna(value=modes.iloc[0])"
   ]
  },
  {
   "cell_type": "code",
   "execution_count": 38,
   "id": "7a9e2d57-aee3-4125-9cee-53bc5b5e64e7",
   "metadata": {},
   "outputs": [],
   "source": [
    "# Define all numeric cols to fill with mean values\n",
    "mean_fill_cols = ['host_response_rate','host_acceptance_rate','bedrooms','beds','minimum_minimum_nights','maximum_maximum_nights','availability_365','review_scores_rating','review_scores_accuracy','review_scores_cleanliness','review_scores_checkin','review_scores_communication','review_scores_location','review_scores_value','reviews_per_month']"
   ]
  },
  {
   "cell_type": "code",
   "execution_count": 39,
   "id": "1071e41a-9f2c-4b2b-bae7-3800a10722d8",
   "metadata": {},
   "outputs": [],
   "source": [
    "# Fill mean values with listed columns\n",
    "means = df_train[mean_fill_cols].mean()\n",
    "df_train[mean_fill_cols] = df_train[mean_fill_cols].fillna(value=means.iloc[0])"
   ]
  },
  {
   "cell_type": "markdown",
   "id": "8a958dcf-3ffc-45b6-8f1c-a16c45f200dd",
   "metadata": {},
   "source": [
    "Besides, various features are recognised to better be in the form of integers instead of floatin point numbers due to their nature. Therefore, they will be converted to the correct form for analysis purposes."
   ]
  },
  {
   "cell_type": "code",
   "execution_count": 40,
   "id": "a0ea1446-d15a-4296-b195-6490a8c7a7c2",
   "metadata": {},
   "outputs": [],
   "source": [
    "# Convert into int \n",
    "df_train[['bedrooms','beds','availability_365','minimum_minimum_nights','maximum_minimum_nights','minimum_maximum_nights','maximum_maximum_nights','minimum_nights_avg_ntm','maximum_nights_avg_ntm']] = df_train[['bedrooms','beds','availability_365','minimum_minimum_nights','maximum_minimum_nights','minimum_maximum_nights','maximum_maximum_nights','minimum_nights_avg_ntm','maximum_nights_avg_ntm']].astype(int)"
   ]
  },
  {
   "cell_type": "markdown",
   "id": "46c74b37-8e94-4a58-a011-556a1ed084f8",
   "metadata": {},
   "source": [
    "**For the test set:**"
   ]
  },
  {
   "cell_type": "code",
   "execution_count": 41,
   "id": "756a829d-743d-4f38-bae2-4001cd47d329",
   "metadata": {},
   "outputs": [
    {
     "data": {
      "text/plain": [
       "(3000, 66)"
      ]
     },
     "execution_count": 41,
     "metadata": {},
     "output_type": "execute_result"
    }
   ],
   "source": [
    "# Examine the shape of the test set\n",
    "df_test.shape"
   ]
  },
  {
   "cell_type": "markdown",
   "id": "197891d4-03ec-4723-862f-6bf9875af226",
   "metadata": {},
   "source": [
    "We repeat the same process as for the training dataset so that misisng values of the test set can be appropriately imputed."
   ]
  },
  {
   "cell_type": "code",
   "execution_count": 42,
   "id": "3ead5be0-fd81-46b4-ab24-a81fbfc45528",
   "metadata": {},
   "outputs": [],
   "source": [
    "df_test[text_cols] = df_test[text_cols].fillna(value='unknonwn')"
   ]
  },
  {
   "cell_type": "code",
   "execution_count": 43,
   "id": "faa8f648-633c-4520-990c-72dff4ef5995",
   "metadata": {},
   "outputs": [],
   "source": [
    "test_modes = df_test[mode_fill_cols].mode()\n",
    "df_test[mode_fill_cols] = df_test[mode_fill_cols].fillna(value=test_modes.iloc[0])"
   ]
  },
  {
   "cell_type": "code",
   "execution_count": 44,
   "id": "e242098c-cf33-4329-bd32-c6650917ed0d",
   "metadata": {},
   "outputs": [],
   "source": [
    "test_means = df_test[mean_fill_cols].mean()\n",
    "df_test[mean_fill_cols] = df_test[mean_fill_cols].fillna(value=test_means.iloc[0])"
   ]
  },
  {
   "cell_type": "code",
   "execution_count": 45,
   "id": "db405bb8-f8fc-497e-87fa-402a2dcff023",
   "metadata": {},
   "outputs": [],
   "source": [
    "df_test[['bedrooms','beds','availability_365','minimum_minimum_nights','maximum_minimum_nights','minimum_maximum_nights','maximum_maximum_nights','minimum_nights_avg_ntm','maximum_nights_avg_ntm']] = df_test[['bedrooms','beds','availability_365','minimum_minimum_nights','maximum_minimum_nights','minimum_maximum_nights','maximum_maximum_nights','minimum_nights_avg_ntm','maximum_nights_avg_ntm']].astype(int)"
   ]
  },
  {
   "attachments": {},
   "cell_type": "markdown",
   "id": "03c14ab6-aff9-4fcd-ab7b-34f0b77f8caa",
   "metadata": {},
   "source": [
    "### **Step 4**: Encode all categorical variables appropriately. "
   ]
  },
  {
   "cell_type": "markdown",
   "id": "08822188",
   "metadata": {},
   "source": [
    "Where a categorical feature contains more than 5 unique values, we can map the features into 5 most frequent values + 'other' and then encode appropriately. For instance, we could group then map `property_type` into 5 basic types + 'other': [entire rental unit, private room, entire room, entire towehouse, shared room, other] and then encode."
   ]
  },
  {
   "cell_type": "code",
   "execution_count": null,
   "id": "8392260b",
   "metadata": {},
   "outputs": [],
   "source": [
    "# Examine the value counts for each property type in both the train and test sets\n",
    "train_prop_counts = df_train['property_type'].value_counts()\n",
    "test_prop_counts = df_test['property_type'].value_counts()\n",
    "\n",
    "# Combine both results\n",
    "combined_prop_counts = pd.concat([train_prop_counts, test_prop_counts], axis=1, keys=['Train', 'Test'])\n",
    "combined_prop_counts['Total'] = combined_prop_counts.sum(axis=1)\n",
    "print(combined_prop_counts)"
   ]
  },
  {
   "cell_type": "code",
   "execution_count": null,
   "id": "f91f4448-8574-4397-a636-d83bbde885e2",
   "metadata": {},
   "outputs": [],
   "source": [
    "# Count values in property_type column\n",
    "# df_train['property_type'].value_counts()"
   ]
  },
  {
   "cell_type": "code",
   "execution_count": null,
   "id": "bad9ed71",
   "metadata": {},
   "outputs": [],
   "source": [
    "# df_test['property_type'].value_counts()"
   ]
  },
  {
   "cell_type": "markdown",
   "id": "21178f28-baee-4204-b646-b53af1b3f517",
   "metadata": {},
   "source": [
    "After investigating the values of `property_type` for both datasets, there can be a way to set groups which are relevant to 'Private room', 'Shared room' and 'Entire room'. \n",
    "\n",
    "As it is difficult to identify which values can be grouped together for 'Entire townhouse' or 'Entire rental unit', we need to specify lists of possible values and apply ordinal encodings."
   ]
  },
  {
   "cell_type": "code",
   "execution_count": 48,
   "id": "1e74a92f-988e-44cb-80ab-1916d4dab8cf",
   "metadata": {},
   "outputs": [],
   "source": [
    "# Define 2 general categories of multiple proprty types\n",
    "entire_townhouse_types = ['Entire villa', 'Entire residential home','Entire guest suite','Entire guesthouse','Entire bungalow','Tiny house','Entire place','Entire vacation home','Dome house','Earth house','Casa particular']\n",
    "entire_rental_unit_types = ['Entire serviced apartment', 'Entire loft', 'Entire rental unit', 'Entire condominium (condo)', 'Entire cottage']\n",
    "\n",
    "# Function to update property_type\n",
    "def update_property_type(df):\n",
    "    for i in range(len(df)):\n",
    "        if 'Private room' in df['property_type'].iloc[i]:\n",
    "            df['property_type'].iloc[i] = 'Private room'\n",
    "        elif 'Shared room' in df['property_type'].iloc[i]:\n",
    "            df['property_type'].iloc[i] = 'Shared room'\n",
    "        elif 'Room in' in df['property_type'].iloc[i]:\n",
    "            df['property_type'].iloc[i] = 'Entire room'\n",
    "        elif df['property_type'].iloc[i] in entire_townhouse_types:\n",
    "            df['property_type'].iloc[i] = 'Entire townhouse'\n",
    "        elif df['property_type'].iloc[i] in entire_rental_unit_types:\n",
    "            df['property_type'].iloc[i] = 'Entire rental unit'"
   ]
  },
  {
   "cell_type": "code",
   "execution_count": null,
   "id": "4ca5a54c",
   "metadata": {},
   "outputs": [],
   "source": [
    "# Apply function to both train and test sets\n",
    "update_property_type(df_train)\n",
    "update_property_type(df_test)"
   ]
  },
  {
   "cell_type": "code",
   "execution_count": 49,
   "id": "aa9d78c7-50f9-4b14-94a7-b1077e29fac1",
   "metadata": {},
   "outputs": [],
   "source": [
    "# #apply to the training set\n",
    "# for i in range(len(df_train)):\n",
    "#     if 'Private room' in df_train['property_type'].loc[i]:\n",
    "#         df_train['property_type'].loc[i]= 'Private room'\n",
    "#     if 'Shared room' in df_train['property_type'].loc[i]:\n",
    "#         df_train['property_type'].loc[i]= 'Shared room'\n",
    "#     if 'Room in' in df_train['property_type'].loc[i]:\n",
    "#         df_train['property_type'].loc[i]= 'Entire room'\n",
    "#     if df_train['property_type'].loc[i] in entire_house:\n",
    "#         df_train['property_type'].loc[i]= 'Entire townhouse'\n",
    "#     if df_train['property_type'].loc[i] in entire_unit:\n",
    "#         df_train['property_type'].loc[i]= 'Entire rental unit'"
   ]
  },
  {
   "cell_type": "code",
   "execution_count": 50,
   "id": "6f8cc347-2ef6-43dd-9556-cf34d52a915b",
   "metadata": {},
   "outputs": [],
   "source": [
    "# #apply to the test set\n",
    "# for j in range(len(df_test)):\n",
    "#     if 'Private room' in df_test['property_type'].iloc[j]:\n",
    "#         df_test['property_type'].iloc[j]= 'Private room'\n",
    "#     if 'Shared room' in df_test['property_type'].iloc[j]:\n",
    "#         df_test['property_type'].iloc[j]= 'Shared room'\n",
    "#     if 'Room in' in df_test['property_type'].iloc[j]:\n",
    "#         df_test['property_type'].iloc[j]= 'Entire room'\n",
    "#     if df_test['property_type'].iloc[j] in e_townhouse:\n",
    "#         df_test['property_type'].iloc[j]= 'Entire townhouse'\n",
    "#     if df_test['property_type'].iloc[j] in e_rentalunit:\n",
    "#         df_test['property_type'].iloc[j]= 'Entire rental unit'"
   ]
  },
  {
   "cell_type": "markdown",
   "id": "a06391ec-d4e1-464e-87be-29f1d90c672b",
   "metadata": {},
   "source": [
    "Now that 5 basic types of Airbnb property have been identified, the remaining values can be assigned as 'Other'."
   ]
  },
  {
   "cell_type": "code",
   "execution_count": null,
   "id": "1a1e82ae",
   "metadata": {},
   "outputs": [],
   "source": [
    "# Define categories\n",
    "valid_property_types = ['Private room', 'Shared room', 'Entire room', 'Entire townhouse', 'Entire rental unit']\n",
    "\n",
    "# Function to update property_type\n",
    "def update_property_type(df):\n",
    "    df['property_type'] = df['property_type'].apply(lambda x: x if x in valid_property_types else 'Other')\n",
    "\n",
    "# Apply function to both train and test sets\n",
    "update_property_type(df_train)\n",
    "update_property_type(df_test)"
   ]
  },
  {
   "cell_type": "code",
   "execution_count": 51,
   "id": "6dc28101-1836-4b9f-ae6e-175919a51e99",
   "metadata": {},
   "outputs": [],
   "source": [
    "# for i in range(len(df_train)):\n",
    "#     if df_train['property_type'].loc[i] not in ['Private room', 'Shared room','Entire room', 'Entire townhouse','Entire rental unit']:\n",
    "#         df_train['property_type'].loc[i] = 'Other'"
   ]
  },
  {
   "cell_type": "code",
   "execution_count": 52,
   "id": "0aead23c-4d5a-48c6-899a-3f889d9b8fa7",
   "metadata": {},
   "outputs": [],
   "source": [
    "# for i in range(len(df_test)):\n",
    "#     if df_test['property_type'].iloc[i] not in ['Private room', 'Shared room','Entire room', 'Entire townhouse','Entire rental unit']:\n",
    "#         df_test['property_type'].iloc[i] = 'Other'"
   ]
  },
  {
   "cell_type": "code",
   "execution_count": null,
   "id": "089a5945",
   "metadata": {},
   "outputs": [],
   "source": [
    "# Combine value counts for both sets after grouping types\n",
    "train_grouped_prop_counts = df_train['property_type'].value_counts()\n",
    "test_grouped_prop_counts = df_test['property_type'].value_counts()\n",
    "\n",
    "combined_grouped_prop_counts = pd.concat([train_grouped_prop_counts, test_grouped_prop_counts], axis=1, keys=['Train', 'Test']).fillna(0)\n",
    "combined_grouped_prop_counts['Total'] = combined_grouped_prop_counts.sum(axis=1)\n",
    "print(combined_grouped_prop_counts)"
   ]
  },
  {
   "cell_type": "code",
   "execution_count": null,
   "id": "30138f56-b509-47b7-a735-da3c2168f8cc",
   "metadata": {},
   "outputs": [],
   "source": [
    "# df_train['property_type'].value_counts()"
   ]
  },
  {
   "cell_type": "code",
   "execution_count": null,
   "id": "bb22da5f-aaf6-405e-868d-29eb3d5f85cd",
   "metadata": {},
   "outputs": [],
   "source": [
    "# df_test['property_type'].value_counts()"
   ]
  },
  {
   "cell_type": "code",
   "execution_count": 55,
   "id": "9b5e68b4-c055-4188-b1b7-742b5ef52fcf",
   "metadata": {},
   "outputs": [
    {
     "data": {
      "text/plain": [
       "property_type\n",
       "Entire rental unit    240.258974\n",
       "Entire room           229.866667\n",
       "Entire townhouse      473.339852\n",
       "Other                 482.634146\n",
       "Private room           80.474479\n",
       "Shared room            47.100000\n",
       "Name: price, dtype: float64"
      ]
     },
     "execution_count": 55,
     "metadata": {},
     "output_type": "execute_result"
    }
   ],
   "source": [
    "# Examine the average price of each property type \n",
    "df_train['price'].groupby(df_train['property_type']).mean()"
   ]
  },
  {
   "cell_type": "markdown",
   "id": "c3c2630b-e769-4bb9-b056-100b6e03acb0",
   "metadata": {},
   "source": [
    "As the chosen methodology for this forecasting topic is ML regression models, all independent varibles must be in numeric form. Therefore, we will map all identified values of `property_type` into integers based on the each type's average price in the descending order."
   ]
  },
  {
   "cell_type": "code",
   "execution_count": 56,
   "id": "aa836599-ad12-43e2-b0d2-b0296522e309",
   "metadata": {},
   "outputs": [],
   "source": [
    "# Define mapping rules \n",
    "property_type_mapping = {'Other':6, 'Entire townhouse':5, 'Entire rental unit':4, 'Entire room':3, 'Private room':2, 'Shared room':1}\n",
    "\n",
    "# Apply to both DataFrames\n",
    "df_train['mapped_property_type'] = df_train['property_type'].map(property_type_mapping)\n",
    "df_test['mapped_property_type'] = df_test['property_type'].map(property_type_mapping)"
   ]
  },
  {
   "cell_type": "code",
   "execution_count": 57,
   "id": "67514083-abe9-4df2-804e-1781dd89d67d",
   "metadata": {},
   "outputs": [],
   "source": [
    "# Drop the original columns after mapping \n",
    "df_train.drop(columns=['property_type'],inplace=True)\n",
    "df_test.drop(columns=['property_type'],inplace=True)"
   ]
  },
  {
   "cell_type": "markdown",
   "id": "a3e5a09d",
   "metadata": {},
   "source": [
    "With the same nature of having diverse types, we apply the same logic for `bathrooms` feature."
   ]
  },
  {
   "cell_type": "code",
   "execution_count": null,
   "id": "30f9cfe7",
   "metadata": {},
   "outputs": [],
   "source": [
    "# Examine the value counts for each bathroom type in both the train and test sets\n",
    "train_bath_counts = df_train['bathrooms'].value_counts()\n",
    "test_bath_counts = df_test['bathrooms'].value_counts()\n",
    "\n",
    "# Combine both results\n",
    "combined_bath_counts = pd.concat([train_bath_counts, test_bath_counts], axis=1, keys=['Train', 'Test'])\n",
    "combined_bath_counts['Total'] = combined_bath_counts.sum(axis=1)\n",
    "print(combined_bath_counts)"
   ]
  },
  {
   "cell_type": "code",
   "execution_count": null,
   "id": "e77ce14f-0261-4e19-8892-70485c652600",
   "metadata": {},
   "outputs": [],
   "source": [
    "#df_train['bathrooms'].value_counts()"
   ]
  },
  {
   "cell_type": "code",
   "execution_count": null,
   "id": "b64dd2b9-930c-465a-be8a-e70f7717d9a0",
   "metadata": {},
   "outputs": [],
   "source": [
    "#df_test['bathrooms'].value_counts()"
   ]
  },
  {
   "cell_type": "markdown",
   "id": "cbafd8f5-ef11-47af-ba45-9a66ce9a7293",
   "metadata": {},
   "source": [
    "It is evident that `bathrooms` feature includes more than 5 unique values which indicates an appropriate encoding strategy should also be applied for analysing purposes. \n",
    "\n",
    "Based on the counting results of all bathroom types, we can classify them as 5 main groups: \n",
    "- One full bath (1 bath) \n",
    "- One full private full bath (1 private bath) \n",
    "- One full shared bath (1 shared bath) \n",
    "- Many full baths (many baths) \n",
    "- Many full shared baths (many shared baths) \n",
    "- Remaining types (other)."
   ]
  },
  {
   "cell_type": "code",
   "execution_count": null,
   "id": "80da380c",
   "metadata": {},
   "outputs": [],
   "source": [
    "# Function to categorize bathroom values\n",
    "def simplify_bathrooms(value):\n",
    "    if '1.5 baths' in value:\n",
    "        return '1 bath'\n",
    "    if '1.5 shared baths' in value:\n",
    "        return '1 shared bath'\n",
    "    if any(x in value for x in ['2', '3', '4', '5', '6', '7', '11', '19']) and 'shared' not in value:\n",
    "        return 'Many baths'\n",
    "    if any(x in value for x in ['2', '3', '4', '5', '6', '7']) and 'shared' in value:\n",
    "        return 'Many shared baths'\n",
    "    if any(x in value for x in ['0', 'half']):\n",
    "        return 'Other'\n",
    "    return value  # Keep unchanged if not matched\n",
    "\n",
    "# Apply function to both DataFrames\n",
    "df_train['bathrooms'] = df_train['bathrooms'].apply(simplify_bathrooms)\n",
    "df_test['bathrooms'] = df_test['bathrooms'].apply(simplify_bathrooms)\n"
   ]
  },
  {
   "cell_type": "code",
   "execution_count": 60,
   "id": "bbadf782-6b49-497b-87ff-e3f29f0aeb56",
   "metadata": {},
   "outputs": [],
   "source": [
    "# #replace values \n",
    "# #1 full bath\n",
    "# one_bath = ['1.5 baths']\n",
    "# df_train['bathrooms'] = df_train['bathrooms'].replace(one_bath,'1 bath')\n",
    "# df_test['bathrooms'] = df_test['bathrooms'].replace(one_bath,'1 bath')\n",
    "# #1 full shared bath\n",
    "# sh_bath = ['1.5 shared baths']\n",
    "# df_train['bathrooms'] = df_train['bathrooms'].replace(sh_bath,'1 shared bath')\n",
    "# df_test['bathrooms'] = df_test['bathrooms'].replace(sh_bath,'1 shared bath')\n",
    "# #many full baths\n",
    "# many_baths = ['2 baths','3 baths','2.5 baths','3.5 baths','4 baths','6 baths','5.5 baths','6.5 baths','11 baths','19 \n",
    "# ']\n",
    "# df_train['bathrooms'] = df_train['bathrooms'].replace(many_baths,'Many baths')\n",
    "# df_test['bathrooms'] = df_test['bathrooms'].replace(many_baths,'Many baths')\n",
    "# #many full shared baths\n",
    "# many_sh_baths = ['2 shared baths','3 shared baths','2.5 shared baths','5 baths','4.5 baths','3.5 shared baths','6 shared baths','4 shared baths','4.5 shared baths','7 shared baths','5.5 shared baths']\n",
    "# df_train['bathrooms'] = df_train['bathrooms'].replace(many_sh_baths,'Many shared baths')\n",
    "# df_test['bathrooms'] = df_test['bathrooms'].replace(many_sh_baths,'Many shared baths')\n",
    "# #the remaining types\n",
    "# other = ['0 shared baths','0 baths','Shared half-bath','Half-bath','Private half-bath']\n",
    "# df_train['bathrooms'] = df_train['bathrooms'].replace(other,'Other')\n",
    "# df_test['bathrooms'] = df_test['bathrooms'].replace(other,'Other')"
   ]
  },
  {
   "cell_type": "code",
   "execution_count": null,
   "id": "a37da9e2-8599-459c-a538-20f8c4bc27f0",
   "metadata": {},
   "outputs": [],
   "source": [
    "# Count distinct values for bathrooms feature after grouping\n",
    "# df_train['bathrooms'].value_counts()"
   ]
  },
  {
   "cell_type": "code",
   "execution_count": null,
   "id": "66296431-3dde-4a46-a606-d12895218492",
   "metadata": {},
   "outputs": [],
   "source": [
    "# df_test['bathrooms'].value_counts()"
   ]
  },
  {
   "cell_type": "code",
   "execution_count": null,
   "id": "8ef6cac6",
   "metadata": {},
   "outputs": [],
   "source": [
    "# Examine the value counts for each bathroom type in both the train and test sets\n",
    "train_grouped_bath_counts = df_train['bathrooms'].value_counts()\n",
    "test_grouped_bath_counts = df_test['bathrooms'].value_counts()\n",
    "\n",
    "# Combine both results\n",
    "combined_bath_counts = pd.concat([train_grouped_bath_counts, test_grouped_bath_counts], axis=1, keys=['Train', 'Test'])\n",
    "combined_bath_counts['Total'] = combined_bath_counts.sum(axis=1)\n",
    "print(combined_bath_counts)"
   ]
  },
  {
   "cell_type": "markdown",
   "id": "c3f40b88",
   "metadata": {},
   "source": [
    "The mapping process is also applied for the `bathrooms` features for constructing ML models in next tasks."
   ]
  },
  {
   "cell_type": "code",
   "execution_count": 63,
   "id": "98636ddf-f942-4732-b954-11c4063be58e",
   "metadata": {},
   "outputs": [],
   "source": [
    "# Map grouped values into integers\n",
    "bathrooms_mapping = {'Other':1, 'Many shared baths':2, 'Many baths':3, '1 shared bath':4, '1 private bath':5, '1 bath':6} \n",
    "\n",
    "# Apply to both DataFrames\n",
    "df_train['mapped_bathrooms'] = df_train['bathrooms'].map(bathrooms_mapping)\n",
    "df_test['mappped_bathrooms'] = df_test['bathrooms'].map(bathrooms_mapping)"
   ]
  },
  {
   "cell_type": "code",
   "execution_count": 64,
   "id": "98152c00-3cd1-4550-89d8-f559c28c69c9",
   "metadata": {},
   "outputs": [],
   "source": [
    "# Drop the original column after mapping \n",
    "df_train.drop(columns=['bathrooms'],inplace=True)\n",
    "df_test.drop(columns=['bathrooms'],inplace=True)"
   ]
  },
  {
   "attachments": {},
   "cell_type": "markdown",
   "id": "2d695347",
   "metadata": {},
   "source": [
    "### **Step 5**: Label and Transform data types for features with multiple values.  "
   ]
  },
  {
   "cell_type": "code",
   "execution_count": 65,
   "id": "3499cff2-07f2-4656-b6c2-4720611cc4c1",
   "metadata": {},
   "outputs": [
    {
     "data": {
      "text/plain": [
       "Entire home/apt    5337\n",
       "Private room       1511\n",
       "Hotel room          103\n",
       "Shared room          49\n",
       "Name: room_type, dtype: int64"
      ]
     },
     "execution_count": 65,
     "metadata": {},
     "output_type": "execute_result"
    }
   ],
   "source": [
    "# Examine the value counts for each room type in the train DataFrame\n",
    "df_train['room_type'].value_counts()"
   ]
  },
  {
   "cell_type": "code",
   "execution_count": 66,
   "id": "927e6e66-9bee-42bb-bb94-5b2f069aa627",
   "metadata": {},
   "outputs": [
    {
     "data": {
      "text/plain": [
       "within an hour        4552\n",
       "within a few hours    1271\n",
       "within a day           860\n",
       "a few days or more     317\n",
       "Name: host_response_time, dtype: int64"
      ]
     },
     "execution_count": 66,
     "metadata": {},
     "output_type": "execute_result"
    }
   ],
   "source": [
    "# Examine the value counts for each host_response_time value in the train DataFrame\n",
    "df_train['host_response_time'].value_counts()"
   ]
  },
  {
   "cell_type": "markdown",
   "id": "bcc020f7-b0a0-4e1c-8cb0-49b7a22aa524",
   "metadata": {},
   "source": [
    "Even though `room_type` and `host_response_time` only has 4 unique values, this feature should also be in an appropriate ordering of the labels by applying the same mapping integer values process."
   ]
  },
  {
   "cell_type": "code",
   "execution_count": 67,
   "id": "43e873cf-9138-481a-a2e5-571b2636989c",
   "metadata": {},
   "outputs": [],
   "source": [
    "# Define mapping rules\n",
    "room_mapping = {'Shared room':1, 'Hotel room':2, 'Private room':3, 'Entire home/apt':4}\n",
    "\n",
    "# Apply to both DataFrames\n",
    "df_train['room_maptype'] = df_train['room_type'].map(room_mapping)\n",
    "df_test['room_maptype'] = df_test['room_type'].map(room_mapping)"
   ]
  },
  {
   "cell_type": "code",
   "execution_count": 68,
   "id": "6b97f3ba-0ed9-4aaf-9933-e02de765268e",
   "metadata": {},
   "outputs": [],
   "source": [
    "# Define mapping rules\n",
    "response_time_mapping = {'a few days or more':1, 'within a day':2, 'within a few hours':3, 'within an hour':4}\n",
    "\n",
    "# Apply to both DataFrames\n",
    "df_train['response_time'] = df_train['host_response_time'].map(response_time_mapping)\n",
    "df_test['response_time'] = df_test['host_response_time'].map(response_time_mapping)"
   ]
  },
  {
   "cell_type": "code",
   "execution_count": 69,
   "id": "af32d6d8",
   "metadata": {},
   "outputs": [],
   "source": [
    "# Drop the original columns after mapping \n",
    "df_train.drop(columns=['room_type'],inplace=True)\n",
    "df_test.drop(columns=['room_type'],inplace=True)\n",
    "df_train.drop(columns=['host_response_time'],inplace=True)\n",
    "df_test.drop(columns=['host_response_time'],inplace=True)"
   ]
  },
  {
   "cell_type": "code",
   "execution_count": 70,
   "id": "dbd9ab99-77f2-4575-9e37-84dd09e4d257",
   "metadata": {},
   "outputs": [],
   "source": [
    "# #drop the original column after mapping \n",
    "# df_train.drop(columns=['host_response_time'],inplace=True)\n",
    "# df_test.drop(columns=['host_response_time'],inplace=True)"
   ]
  },
  {
   "cell_type": "code",
   "execution_count": null,
   "id": "33d8f757",
   "metadata": {},
   "outputs": [],
   "source": [
    "# # Combine value counts for both sets after grouping types\n",
    "# train_grouped_prop_counts = df_train['property_type'].value_counts()\n",
    "# test_grouped_prop_counts = df_test['property_type'].value_counts()\n",
    "\n",
    "# combined_grouped_prop_counts = pd.concat([train_grouped_prop_counts, test_grouped_prop_counts], axis=1, keys=['Train', 'Test']).fillna(0)\n",
    "# combined_grouped_prop_counts['Total'] = combined_grouped_prop_counts.sum(axis=1)\n",
    "# print(combined_grouped_prop_counts)"
   ]
  },
  {
   "cell_type": "markdown",
   "id": "b0a4c231-9720-4ec9-aa4c-f918a79defbb",
   "metadata": {},
   "source": [
    "Moreover, by assessing the values of the remaining categorical features which are `has_availability`, `host_is_superhost`, `host_has_profile_pic`, `host_identity_verified` and `instant_bookable`, we recognize that they only have 2 values of 't' and 'f'. Therefore, we can encode these 2 values to 1 and 0 respectively."
   ]
  },
  {
   "cell_type": "code",
   "execution_count": null,
   "id": "01689508",
   "metadata": {},
   "outputs": [],
   "source": [
    "columns_to_replace = [\n",
    "    'has_availability',\n",
    "    'host_is_superhost',\n",
    "    'host_has_profile_pic',\n",
    "    'host_identity_verified',\n",
    "    'instant_bookable'\n",
    "]\n",
    "# Examine the top 5 values of these given features \n",
    "df_train[columns_to_replace].head()"
   ]
  },
  {
   "cell_type": "code",
   "execution_count": null,
   "id": "449146d1",
   "metadata": {},
   "outputs": [],
   "source": [
    "# Calculate value counts for each column\n",
    "has_availability_counts = df_train['has_availability'].value_counts()\n",
    "host_is_superhost_counts = df_train['host_is_superhost'].value_counts()\n",
    "host_has_profile_pic_counts = df_train['host_has_profile_pic'].value_counts()\n",
    "host_identity_verified_counts = df_train['host_identity_verified'].value_counts()\n",
    "instant_bookable_counts = df_train['instant_bookable'].value_counts()\n",
    "\n",
    "# Concatenate the outputs into a single DataFrame\n",
    "tf_counts_result = pd.concat([has_availability_counts, host_is_superhost_counts, host_has_profile_pic_counts, host_identity_verified_counts, instant_bookable_counts], axis=1)\n",
    "tf_counts_result.columns = columns_to_replace\n",
    "\n",
    "# Display the result\n",
    "print(tf_counts_result)"
   ]
  },
  {
   "cell_type": "code",
   "execution_count": 71,
   "id": "df58f2b0-48c5-47ab-a76f-614be7cbea40",
   "metadata": {},
   "outputs": [
    {
     "data": {
      "text/plain": [
       "t    6986\n",
       "f      14\n",
       "Name: has_availability, dtype: int64"
      ]
     },
     "execution_count": 71,
     "metadata": {},
     "output_type": "execute_result"
    }
   ],
   "source": [
    "# df_train['has_availability'].value_counts()"
   ]
  },
  {
   "cell_type": "code",
   "execution_count": 72,
   "id": "95cef8a2-a4ba-48ed-9a2a-999bed27f469",
   "metadata": {},
   "outputs": [
    {
     "data": {
      "text/plain": [
       "f    4901\n",
       "t    2099\n",
       "Name: host_is_superhost, dtype: int64"
      ]
     },
     "execution_count": 72,
     "metadata": {},
     "output_type": "execute_result"
    }
   ],
   "source": [
    "# df_train['host_is_superhost'].value_counts()"
   ]
  },
  {
   "cell_type": "code",
   "execution_count": 73,
   "id": "c5f4dcb5-c628-4f1d-bae4-a557ba969ae1",
   "metadata": {},
   "outputs": [
    {
     "data": {
      "text/plain": [
       "t    6981\n",
       "f      19\n",
       "Name: host_has_profile_pic, dtype: int64"
      ]
     },
     "execution_count": 73,
     "metadata": {},
     "output_type": "execute_result"
    }
   ],
   "source": [
    "# df_train['host_has_profile_pic'].value_counts()"
   ]
  },
  {
   "cell_type": "code",
   "execution_count": 74,
   "id": "3dac0f79-2f78-4dec-833e-808c922187c7",
   "metadata": {},
   "outputs": [
    {
     "data": {
      "text/plain": [
       "t    6320\n",
       "f     680\n",
       "Name: host_identity_verified, dtype: int64"
      ]
     },
     "execution_count": 74,
     "metadata": {},
     "output_type": "execute_result"
    }
   ],
   "source": [
    "# df_train['host_identity_verified'].value_counts()"
   ]
  },
  {
   "cell_type": "code",
   "execution_count": 75,
   "id": "33fd2683-c2cf-4c65-b1ca-07b8cd08b153",
   "metadata": {},
   "outputs": [
    {
     "data": {
      "text/plain": [
       "f    4575\n",
       "t    2425\n",
       "Name: instant_bookable, dtype: int64"
      ]
     },
     "execution_count": 75,
     "metadata": {},
     "output_type": "execute_result"
    }
   ],
   "source": [
    "# df_train['instant_bookable'].value_counts()"
   ]
  },
  {
   "cell_type": "markdown",
   "id": "fefb0bcf",
   "metadata": {},
   "source": [
    "Now that we can map the t and f values in those columns into 1 and 0, it will be more appropriate to prepare datasets for ML models than text-based data."
   ]
  },
  {
   "cell_type": "code",
   "execution_count": null,
   "id": "119845f0",
   "metadata": {},
   "outputs": [],
   "source": [
    "# Replacing values in df_train\n",
    "df_train[columns_to_replace] = df_train[columns_to_replace].replace({'t': 1, 'f': 0})\n",
    "\n",
    "# Replacing values in df_test\n",
    "df_test[columns_to_replace] = df_test[columns_to_replace].replace({'t': 1, 'f': 0})"
   ]
  },
  {
   "cell_type": "code",
   "execution_count": 76,
   "id": "c074c127-7f26-4152-bc1b-e0658ef36d5a",
   "metadata": {},
   "outputs": [],
   "source": [
    "# #encode values\n",
    "# df_train['has_availability'].replace({'t': 1, 'f': 0}, inplace=True)\n",
    "# df_train['host_is_superhost'].replace({'t': 1, 'f': 0}, inplace=True)\n",
    "# df_train['host_has_profile_pic'].replace({'t': 1, 'f': 0}, inplace=True)\n",
    "# df_train['host_identity_verified'].replace({'t': 1, 'f': 0}, inplace=True)\n",
    "# df_train['instant_bookable'].replace({'t': 1, 'f': 0}, inplace=True)"
   ]
  },
  {
   "cell_type": "code",
   "execution_count": 77,
   "id": "819d99fd-e132-454a-9237-9ed87bf9f089",
   "metadata": {},
   "outputs": [],
   "source": [
    "# #encode values\n",
    "# df_test['has_availability'].replace({'t': 1, 'f': 0}, inplace=True)\n",
    "# df_test['host_is_superhost'].replace({'t': 1, 'f': 0}, inplace=True)\n",
    "# df_test['host_has_profile_pic'].replace({'t': 1, 'f': 0}, inplace=True)\n",
    "# df_test['host_identity_verified'].replace({'t': 1, 'f': 0}, inplace=True)\n",
    "# df_test['instant_bookable'].replace({'t': 1, 'f': 0}, inplace=True)"
   ]
  },
  {
   "attachments": {},
   "cell_type": "markdown",
   "id": "fa16475c",
   "metadata": {},
   "source": [
    "### **Step 6**: Perform exploratory data analysis to measure the relationship between the features and the target and write up your findings. "
   ]
  },
  {
   "cell_type": "markdown",
   "id": "879c22e5-d731-483b-aed4-bea2f0954cf5",
   "metadata": {},
   "source": [
    "To explore and measure the relationship between current features and `price` as the target variable, we can construct correlation matrix to establish them:"
   ]
  },
  {
   "cell_type": "code",
   "execution_count": 78,
   "id": "8927feec-90cc-4518-ac84-7e5a47e469de",
   "metadata": {},
   "outputs": [
    {
     "data": {
      "text/html": [
       "<div>\n",
       "<style scoped>\n",
       "    .dataframe tbody tr th:only-of-type {\n",
       "        vertical-align: middle;\n",
       "    }\n",
       "\n",
       "    .dataframe tbody tr th {\n",
       "        vertical-align: top;\n",
       "    }\n",
       "\n",
       "    .dataframe thead th {\n",
       "        text-align: right;\n",
       "    }\n",
       "</style>\n",
       "<table border=\"1\" class=\"dataframe\">\n",
       "  <thead>\n",
       "    <tr style=\"text-align: right;\">\n",
       "      <th></th>\n",
       "      <th>Target</th>\n",
       "      <th>Features</th>\n",
       "      <th>Correlation</th>\n",
       "    </tr>\n",
       "  </thead>\n",
       "  <tbody>\n",
       "    <tr>\n",
       "      <th>144</th>\n",
       "      <td>price</td>\n",
       "      <td>accommodates</td>\n",
       "      <td>0.597608</td>\n",
       "    </tr>\n",
       "    <tr>\n",
       "      <th>165</th>\n",
       "      <td>price</td>\n",
       "      <td>map_property_type</td>\n",
       "      <td>0.381652</td>\n",
       "    </tr>\n",
       "    <tr>\n",
       "      <th>187</th>\n",
       "      <td>price</td>\n",
       "      <td>room_maptype</td>\n",
       "      <td>0.263343</td>\n",
       "    </tr>\n",
       "    <tr>\n",
       "      <th>188</th>\n",
       "      <td>price</td>\n",
       "      <td>latitude</td>\n",
       "      <td>0.262959</td>\n",
       "    </tr>\n",
       "    <tr>\n",
       "      <th>191</th>\n",
       "      <td>price</td>\n",
       "      <td>longitude</td>\n",
       "      <td>0.262011</td>\n",
       "    </tr>\n",
       "    <tr>\n",
       "      <th>315</th>\n",
       "      <td>price</td>\n",
       "      <td>calculated_host_listings_count_entire_homes</td>\n",
       "      <td>0.134978</td>\n",
       "    </tr>\n",
       "    <tr>\n",
       "      <th>430</th>\n",
       "      <td>price</td>\n",
       "      <td>review_scores_rating</td>\n",
       "      <td>0.096719</td>\n",
       "    </tr>\n",
       "    <tr>\n",
       "      <th>435</th>\n",
       "      <td>price</td>\n",
       "      <td>host_listings_count</td>\n",
       "      <td>0.095468</td>\n",
       "    </tr>\n",
       "    <tr>\n",
       "      <th>475</th>\n",
       "      <td>price</td>\n",
       "      <td>reviews</td>\n",
       "      <td>0.084221</td>\n",
       "    </tr>\n",
       "    <tr>\n",
       "      <th>485</th>\n",
       "      <td>price</td>\n",
       "      <td>reviews_per_month</td>\n",
       "      <td>0.080419</td>\n",
       "    </tr>\n",
       "    <tr>\n",
       "      <th>503</th>\n",
       "      <td>price</td>\n",
       "      <td>review_scores_cleanliness</td>\n",
       "      <td>0.077085</td>\n",
       "    </tr>\n",
       "    <tr>\n",
       "      <th>506</th>\n",
       "      <td>price</td>\n",
       "      <td>review_scores_location</td>\n",
       "      <td>0.076400</td>\n",
       "    </tr>\n",
       "    <tr>\n",
       "      <th>508</th>\n",
       "      <td>price</td>\n",
       "      <td>review_scores_accuracy</td>\n",
       "      <td>0.076139</td>\n",
       "    </tr>\n",
       "    <tr>\n",
       "      <th>510</th>\n",
       "      <td>price</td>\n",
       "      <td>review_scores_communication</td>\n",
       "      <td>0.076071</td>\n",
       "    </tr>\n",
       "    <tr>\n",
       "      <th>513</th>\n",
       "      <td>price</td>\n",
       "      <td>review_scores_checkin</td>\n",
       "      <td>0.075147</td>\n",
       "    </tr>\n",
       "    <tr>\n",
       "      <th>514</th>\n",
       "      <td>price</td>\n",
       "      <td>review_scores_value</td>\n",
       "      <td>0.075103</td>\n",
       "    </tr>\n",
       "    <tr>\n",
       "      <th>525</th>\n",
       "      <td>price</td>\n",
       "      <td>calculated_host_listings_count</td>\n",
       "      <td>0.073491</td>\n",
       "    </tr>\n",
       "    <tr>\n",
       "      <th>534</th>\n",
       "      <td>price</td>\n",
       "      <td>availability_365</td>\n",
       "      <td>0.072144</td>\n",
       "    </tr>\n",
       "    <tr>\n",
       "      <th>597</th>\n",
       "      <td>price</td>\n",
       "      <td>jumio</td>\n",
       "      <td>0.061271</td>\n",
       "    </tr>\n",
       "    <tr>\n",
       "      <th>634</th>\n",
       "      <td>price</td>\n",
       "      <td>host_identity_verified</td>\n",
       "      <td>0.056668</td>\n",
       "    </tr>\n",
       "    <tr>\n",
       "      <th>795</th>\n",
       "      <td>price</td>\n",
       "      <td>email</td>\n",
       "      <td>0.039245</td>\n",
       "    </tr>\n",
       "    <tr>\n",
       "      <th>1063</th>\n",
       "      <td>price</td>\n",
       "      <td>beds</td>\n",
       "      <td>0.020514</td>\n",
       "    </tr>\n",
       "    <tr>\n",
       "      <th>1279</th>\n",
       "      <td>price</td>\n",
       "      <td>Smoke alarm</td>\n",
       "      <td>0.010332</td>\n",
       "    </tr>\n",
       "    <tr>\n",
       "      <th>1336</th>\n",
       "      <td>price</td>\n",
       "      <td>has_availability</td>\n",
       "      <td>0.008724</td>\n",
       "    </tr>\n",
       "    <tr>\n",
       "      <th>1404</th>\n",
       "      <td>price</td>\n",
       "      <td>phone</td>\n",
       "      <td>0.005411</td>\n",
       "    </tr>\n",
       "    <tr>\n",
       "      <th>1521</th>\n",
       "      <td>price</td>\n",
       "      <td>maximum_nights_avg_ntm</td>\n",
       "      <td>-0.000759</td>\n",
       "    </tr>\n",
       "    <tr>\n",
       "      <th>1542</th>\n",
       "      <td>price</td>\n",
       "      <td>maximum_maximum_nights</td>\n",
       "      <td>-0.001471</td>\n",
       "    </tr>\n",
       "    <tr>\n",
       "      <th>1586</th>\n",
       "      <td>price</td>\n",
       "      <td>Wifi</td>\n",
       "      <td>-0.004020</td>\n",
       "    </tr>\n",
       "    <tr>\n",
       "      <th>1817</th>\n",
       "      <td>price</td>\n",
       "      <td>host_has_profile_pic</td>\n",
       "      <td>-0.015908</td>\n",
       "    </tr>\n",
       "    <tr>\n",
       "      <th>1943</th>\n",
       "      <td>price</td>\n",
       "      <td>Essentials</td>\n",
       "      <td>-0.022663</td>\n",
       "    </tr>\n",
       "    <tr>\n",
       "      <th>2029</th>\n",
       "      <td>price</td>\n",
       "      <td>availability_60</td>\n",
       "      <td>-0.025466</td>\n",
       "    </tr>\n",
       "    <tr>\n",
       "      <th>2084</th>\n",
       "      <td>price</td>\n",
       "      <td>availability_30</td>\n",
       "      <td>-0.027378</td>\n",
       "    </tr>\n",
       "    <tr>\n",
       "      <th>2102</th>\n",
       "      <td>price</td>\n",
       "      <td>availability_90</td>\n",
       "      <td>-0.029104</td>\n",
       "    </tr>\n",
       "    <tr>\n",
       "      <th>2140</th>\n",
       "      <td>price</td>\n",
       "      <td>host_response_rate</td>\n",
       "      <td>-0.031805</td>\n",
       "    </tr>\n",
       "    <tr>\n",
       "      <th>2253</th>\n",
       "      <td>price</td>\n",
       "      <td>host_is_superhost</td>\n",
       "      <td>-0.041883</td>\n",
       "    </tr>\n",
       "    <tr>\n",
       "      <th>2285</th>\n",
       "      <td>price</td>\n",
       "      <td>calculated_host_listings_count_shared_rooms</td>\n",
       "      <td>-0.046694</td>\n",
       "    </tr>\n",
       "    <tr>\n",
       "      <th>2427</th>\n",
       "      <td>price</td>\n",
       "      <td>number_of_reviews_l30d</td>\n",
       "      <td>-0.064508</td>\n",
       "    </tr>\n",
       "    <tr>\n",
       "      <th>2464</th>\n",
       "      <td>price</td>\n",
       "      <td>maximum_nights</td>\n",
       "      <td>-0.070754</td>\n",
       "    </tr>\n",
       "    <tr>\n",
       "      <th>2480</th>\n",
       "      <td>price</td>\n",
       "      <td>ID</td>\n",
       "      <td>-0.072899</td>\n",
       "    </tr>\n",
       "    <tr>\n",
       "      <th>2513</th>\n",
       "      <td>price</td>\n",
       "      <td>maximum_minimum_nights</td>\n",
       "      <td>-0.078419</td>\n",
       "    </tr>\n",
       "    <tr>\n",
       "      <th>2533</th>\n",
       "      <td>price</td>\n",
       "      <td>Long term stays allowed</td>\n",
       "      <td>-0.080048</td>\n",
       "    </tr>\n",
       "    <tr>\n",
       "      <th>2553</th>\n",
       "      <td>price</td>\n",
       "      <td>minimum_nights</td>\n",
       "      <td>-0.082712</td>\n",
       "    </tr>\n",
       "    <tr>\n",
       "      <th>2567</th>\n",
       "      <td>price</td>\n",
       "      <td>minimum_nights_avg_ntm</td>\n",
       "      <td>-0.085047</td>\n",
       "    </tr>\n",
       "    <tr>\n",
       "      <th>2581</th>\n",
       "      <td>price</td>\n",
       "      <td>minimum_minimum_nights</td>\n",
       "      <td>-0.088852</td>\n",
       "    </tr>\n",
       "    <tr>\n",
       "      <th>2585</th>\n",
       "      <td>price</td>\n",
       "      <td>number_of_reviews_ltm</td>\n",
       "      <td>-0.089261</td>\n",
       "    </tr>\n",
       "    <tr>\n",
       "      <th>2654</th>\n",
       "      <td>price</td>\n",
       "      <td>calculated_host_listings_count_private_rooms</td>\n",
       "      <td>-0.099050</td>\n",
       "    </tr>\n",
       "    <tr>\n",
       "      <th>2676</th>\n",
       "      <td>price</td>\n",
       "      <td>bedrooms</td>\n",
       "      <td>-0.102601</td>\n",
       "    </tr>\n",
       "    <tr>\n",
       "      <th>2679</th>\n",
       "      <td>price</td>\n",
       "      <td>minimum_maximum_nights</td>\n",
       "      <td>-0.102671</td>\n",
       "    </tr>\n",
       "    <tr>\n",
       "      <th>2708</th>\n",
       "      <td>price</td>\n",
       "      <td>instant_bookable</td>\n",
       "      <td>-0.110357</td>\n",
       "    </tr>\n",
       "    <tr>\n",
       "      <th>2722</th>\n",
       "      <td>price</td>\n",
       "      <td>number_of_reviews</td>\n",
       "      <td>-0.117206</td>\n",
       "    </tr>\n",
       "    <tr>\n",
       "      <th>2746</th>\n",
       "      <td>price</td>\n",
       "      <td>response_time</td>\n",
       "      <td>-0.130608</td>\n",
       "    </tr>\n",
       "    <tr>\n",
       "      <th>2792</th>\n",
       "      <td>price</td>\n",
       "      <td>host_acceptance_rate</td>\n",
       "      <td>-0.157264</td>\n",
       "    </tr>\n",
       "    <tr>\n",
       "      <th>2901</th>\n",
       "      <td>price</td>\n",
       "      <td>map_bathrooms</td>\n",
       "      <td>-0.313761</td>\n",
       "    </tr>\n",
       "  </tbody>\n",
       "</table>\n",
       "</div>"
      ],
      "text/plain": [
       "     Target                                      Features  Correlation\n",
       "144   price                                  accommodates     0.597608\n",
       "165   price                             map_property_type     0.381652\n",
       "187   price                                  room_maptype     0.263343\n",
       "188   price                                      latitude     0.262959\n",
       "191   price                                     longitude     0.262011\n",
       "315   price   calculated_host_listings_count_entire_homes     0.134978\n",
       "430   price                          review_scores_rating     0.096719\n",
       "435   price                           host_listings_count     0.095468\n",
       "475   price                                       reviews     0.084221\n",
       "485   price                             reviews_per_month     0.080419\n",
       "503   price                     review_scores_cleanliness     0.077085\n",
       "506   price                        review_scores_location     0.076400\n",
       "508   price                        review_scores_accuracy     0.076139\n",
       "510   price                   review_scores_communication     0.076071\n",
       "513   price                         review_scores_checkin     0.075147\n",
       "514   price                           review_scores_value     0.075103\n",
       "525   price                calculated_host_listings_count     0.073491\n",
       "534   price                              availability_365     0.072144\n",
       "597   price                                         jumio     0.061271\n",
       "634   price                        host_identity_verified     0.056668\n",
       "795   price                                         email     0.039245\n",
       "1063  price                                          beds     0.020514\n",
       "1279  price                                   Smoke alarm     0.010332\n",
       "1336  price                              has_availability     0.008724\n",
       "1404  price                                         phone     0.005411\n",
       "1521  price                        maximum_nights_avg_ntm    -0.000759\n",
       "1542  price                        maximum_maximum_nights    -0.001471\n",
       "1586  price                                          Wifi    -0.004020\n",
       "1817  price                          host_has_profile_pic    -0.015908\n",
       "1943  price                                    Essentials    -0.022663\n",
       "2029  price                               availability_60    -0.025466\n",
       "2084  price                               availability_30    -0.027378\n",
       "2102  price                               availability_90    -0.029104\n",
       "2140  price                            host_response_rate    -0.031805\n",
       "2253  price                             host_is_superhost    -0.041883\n",
       "2285  price   calculated_host_listings_count_shared_rooms    -0.046694\n",
       "2427  price                        number_of_reviews_l30d    -0.064508\n",
       "2464  price                                maximum_nights    -0.070754\n",
       "2480  price                                            ID    -0.072899\n",
       "2513  price                        maximum_minimum_nights    -0.078419\n",
       "2533  price                       Long term stays allowed    -0.080048\n",
       "2553  price                                minimum_nights    -0.082712\n",
       "2567  price                        minimum_nights_avg_ntm    -0.085047\n",
       "2581  price                        minimum_minimum_nights    -0.088852\n",
       "2585  price                         number_of_reviews_ltm    -0.089261\n",
       "2654  price  calculated_host_listings_count_private_rooms    -0.099050\n",
       "2676  price                                      bedrooms    -0.102601\n",
       "2679  price                        minimum_maximum_nights    -0.102671\n",
       "2708  price                              instant_bookable    -0.110357\n",
       "2722  price                             number_of_reviews    -0.117206\n",
       "2746  price                                 response_time    -0.130608\n",
       "2792  price                          host_acceptance_rate    -0.157264\n",
       "2901  price                                 map_bathrooms    -0.313761"
      ]
     },
     "execution_count": 78,
     "metadata": {},
     "output_type": "execute_result"
    }
   ],
   "source": [
    "correlations = df_train.corr().unstack().sort_values(ascending=False) #build correlation matrix\n",
    "correlations = pd.DataFrame(correlations).reset_index() #convert to dataframe\n",
    "correlations.columns = ['Target', 'Features', 'Correlation'] #label it\n",
    "correlations.query(\"Target == 'price' & Features != 'price'\") #filter by variable"
   ]
  },
  {
   "cell_type": "markdown",
   "id": "d7893e54-6013-4fe4-9363-6da2a35737ea",
   "metadata": {},
   "source": [
    "- Majority of the correlation showed a weak relationship as nearly closed to 0. \n",
    "- The 3 in the highest order are accommodates, properties and room type. Meaning that the essential organizing of these features could lead to a higher listing price as a common type of feature that creates values of living experiences. \n",
    "- On the opposite, the bottom level of Response rate, bathroom type and acceptance rate could result in a low listing price as it is directly related to the comfortable experiences of customers while making the booking and using the facilities. "
   ]
  },
  {
   "attachments": {},
   "cell_type": "markdown",
   "id": "56f45050-bfae-44bb-8608-cb10a34b208b",
   "metadata": {},
   "source": [
    "**Feature Engineering:**\n",
    "\n",
    "After cleaning all string-based, categorical and numerical data, we identify that various potential features will not be utilized for forecasting models and included in the subset of the training data. They can be listed as: `name`,`description`,`neighborhood_overview`,`host_name`,`host_since`,`host_location`,`host_about`, `host_neighbourhood`,`neighbourhood`,\n",
    "`neighbourhood_cleansed`,`first_review`,`last_review` and `license`."
   ]
  }
 ],
 "metadata": {
  "kernelspec": {
   "display_name": "Python 3",
   "language": "python",
   "name": "python3"
  },
  "language_info": {
   "codemirror_mode": {
    "name": "ipython",
    "version": 3
   },
   "file_extension": ".py",
   "mimetype": "text/x-python",
   "name": "python",
   "nbconvert_exporter": "python",
   "pygments_lexer": "ipython3",
   "version": "3.11.9"
  }
 },
 "nbformat": 4,
 "nbformat_minor": 5
}
